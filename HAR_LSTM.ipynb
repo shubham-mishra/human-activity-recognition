{
 "cells": [
  {
   "cell_type": "code",
   "execution_count": 1,
   "metadata": {
    "collapsed": true
   },
   "outputs": [],
   "source": [
    "# Importing Libraries"
   ]
  },
  {
   "cell_type": "code",
   "execution_count": 152,
   "metadata": {},
   "outputs": [],
   "source": [
    "import pandas as pd\n",
    "import numpy as np\n",
    "from keras.models import Sequential, load_model\n",
    "from keras.layers import LSTM\n",
    "from keras.layers.core import Dense, Dropout\n",
    "import pickle\n",
    "from sklearn.metrics import accuracy_score"
   ]
  },
  {
   "cell_type": "code",
   "execution_count": 2,
   "metadata": {},
   "outputs": [],
   "source": [
    "# Activities are the class labels\n",
    "# It is a 6 class classification\n",
    "ACTIVITIES = {\n",
    "    0: 'WALKING',\n",
    "    1: 'WALKING_UPSTAIRS',\n",
    "    2: 'WALKING_DOWNSTAIRS',\n",
    "    3: 'SITTING',\n",
    "    4: 'STANDING',\n",
    "    5: 'LAYING',\n",
    "}\n",
    "\n",
    "# Utility function to print the confusion matrix\n",
    "def confusion_matrix(Y_true, Y_pred):\n",
    "    Y_true = pd.Series([ACTIVITIES[y] for y in np.argmax(Y_true, axis=1)])\n",
    "    Y_pred = pd.Series([ACTIVITIES[y] for y in np.argmax(Y_pred, axis=1)])\n",
    "\n",
    "    return pd.crosstab(Y_true, Y_pred, rownames=['True'], colnames=['Pred'])"
   ]
  },
  {
   "cell_type": "markdown",
   "metadata": {},
   "source": [
    "### Data"
   ]
  },
  {
   "cell_type": "code",
   "execution_count": 3,
   "metadata": {},
   "outputs": [],
   "source": [
    "# Data directory\n",
    "DATADIR = 'UCI_HAR_Dataset'"
   ]
  },
  {
   "cell_type": "code",
   "execution_count": 4,
   "metadata": {},
   "outputs": [],
   "source": [
    "# Raw data signals\n",
    "# Signals are from Accelerometer and Gyroscope\n",
    "# The signals are in x,y,z directions\n",
    "# Sensor signals are filtered to have only body acceleration\n",
    "# excluding the acceleration due to gravity\n",
    "# Triaxial acceleration from the accelerometer is total acceleration\n",
    "SIGNALS = [\n",
    "    \"body_acc_x\",\n",
    "    \"body_acc_y\",\n",
    "    \"body_acc_z\",\n",
    "    \"body_gyro_x\",\n",
    "    \"body_gyro_y\",\n",
    "    \"body_gyro_z\",\n",
    "    \"total_acc_x\",\n",
    "    \"total_acc_y\",\n",
    "    \"total_acc_z\"\n",
    "]"
   ]
  },
  {
   "cell_type": "code",
   "execution_count": 5,
   "metadata": {},
   "outputs": [],
   "source": [
    "# Utility function to read the data from csv file\n",
    "def _read_csv(filename):\n",
    "    return pd.read_csv(filename, delim_whitespace=True, header=None)\n",
    "\n",
    "# Utility function to load the load\n",
    "def load_signals(subset):\n",
    "    signals_data = []\n",
    "\n",
    "    for signal in SIGNALS:\n",
    "        filename = f'UCI_HAR_Dataset/{subset}/Inertial Signals/{signal}_{subset}.txt'\n",
    "        signals_data.append(\n",
    "            _read_csv(filename).as_matrix()\n",
    "        ) \n",
    "\n",
    "    # Transpose is used to change the dimensionality of the output,\n",
    "    # aggregating the signals by combination of sample/timestep.\n",
    "    # Resultant shape is (7352 train/2947 test samples, 128 timesteps, 9 signals)\n",
    "    return np.transpose(signals_data, (1, 2, 0))"
   ]
  },
  {
   "cell_type": "code",
   "execution_count": 6,
   "metadata": {},
   "outputs": [],
   "source": [
    "\n",
    "def load_y(subset):\n",
    "    \"\"\"\n",
    "    The objective that we are trying to predict is a integer, from 1 to 6,\n",
    "    that represents a human activity. We return a binary representation of \n",
    "    every sample objective as a 6 bits vector using One Hot Encoding\n",
    "    (https://pandas.pydata.org/pandas-docs/stable/generated/pandas.get_dummies.html)\n",
    "    \"\"\"\n",
    "    filename = f'UCI_HAR_Dataset/{subset}/y_{subset}.txt'\n",
    "    y = _read_csv(filename)[0]\n",
    "\n",
    "    return pd.get_dummies(y).as_matrix()"
   ]
  },
  {
   "cell_type": "code",
   "execution_count": 7,
   "metadata": {},
   "outputs": [],
   "source": [
    "def load_data():\n",
    "    \"\"\"\n",
    "    Obtain the dataset from multiple files.\n",
    "    Returns: X_train, X_test, y_train, y_test\n",
    "    \"\"\"\n",
    "    X_train, X_test = load_signals('train'), load_signals('test')\n",
    "    y_train, y_test = load_y('train'), load_y('test')\n",
    "\n",
    "    return X_train, X_test, y_train, y_test"
   ]
  },
  {
   "cell_type": "code",
   "execution_count": 8,
   "metadata": {},
   "outputs": [],
   "source": [
    "# Importing tensorflow\n",
    "np.random.seed(42)\n",
    "import tensorflow as tf\n",
    "tf.set_random_seed(42)"
   ]
  },
  {
   "cell_type": "code",
   "execution_count": 9,
   "metadata": {},
   "outputs": [],
   "source": [
    "# Configuring a session\n",
    "session_conf = tf.ConfigProto(\n",
    "    intra_op_parallelism_threads=1,\n",
    "    inter_op_parallelism_threads=1\n",
    ")"
   ]
  },
  {
   "cell_type": "code",
   "execution_count": 10,
   "metadata": {},
   "outputs": [],
   "source": [
    "# Import Keras\n",
    "from keras import backend as K\n",
    "sess = tf.Session(graph=tf.get_default_graph(), config=session_conf)\n",
    "K.set_session(sess)"
   ]
  },
  {
   "cell_type": "code",
   "execution_count": 11,
   "metadata": {},
   "outputs": [],
   "source": [
    "# Initializing parameters\n",
    "epochs = 30\n",
    "batch_size = 16\n",
    "n_hidden = 32"
   ]
  },
  {
   "cell_type": "code",
   "execution_count": 12,
   "metadata": {},
   "outputs": [],
   "source": [
    "# Utility function to count the number of classes\n",
    "def _count_classes(y):\n",
    "    return len(set([tuple(category) for category in y]))"
   ]
  },
  {
   "cell_type": "code",
   "execution_count": 13,
   "metadata": {},
   "outputs": [
    {
     "name": "stderr",
     "output_type": "stream",
     "text": [
      "C:\\Users\\mishra_s\\AppData\\Local\\Continuum\\anaconda3\\lib\\site-packages\\ipykernel_launcher.py:12: FutureWarning: Method .as_matrix will be removed in a future version. Use .values instead.\n",
      "  if sys.path[0] == '':\n",
      "C:\\Users\\mishra_s\\AppData\\Local\\Continuum\\anaconda3\\lib\\site-packages\\ipykernel_launcher.py:11: FutureWarning: Method .as_matrix will be removed in a future version. Use .values instead.\n",
      "  # This is added back by InteractiveShellApp.init_path()\n"
     ]
    }
   ],
   "source": [
    "# Loading the train and test data\n",
    "X_train, X_test, Y_train, Y_test = load_data()"
   ]
  },
  {
   "cell_type": "code",
   "execution_count": 19,
   "metadata": {},
   "outputs": [
    {
     "name": "stdout",
     "output_type": "stream",
     "text": [
      "128\n",
      "9\n",
      "7352\n"
     ]
    }
   ],
   "source": [
    "timesteps = len(X_train[0])\n",
    "input_dim = len(X_train[0][0])\n",
    "n_classes = _count_classes(Y_train)\n",
    "\n",
    "print(timesteps)\n",
    "print(input_dim)\n",
    "print(len(X_train))"
   ]
  },
  {
   "cell_type": "markdown",
   "metadata": {},
   "source": [
    "- Defining the Architecture of LSTM"
   ]
  },
  {
   "cell_type": "code",
   "execution_count": 20,
   "metadata": {},
   "outputs": [
    {
     "name": "stdout",
     "output_type": "stream",
     "text": [
      "WARNING:tensorflow:From C:\\Users\\mishra_s\\AppData\\Local\\Continuum\\anaconda3\\lib\\site-packages\\tensorflow\\python\\framework\\op_def_library.py:263: colocate_with (from tensorflow.python.framework.ops) is deprecated and will be removed in a future version.\n",
      "Instructions for updating:\n",
      "Colocations handled automatically by placer.\n",
      "WARNING:tensorflow:From C:\\Users\\mishra_s\\AppData\\Local\\Continuum\\anaconda3\\lib\\site-packages\\keras\\backend\\tensorflow_backend.py:3733: calling dropout (from tensorflow.python.ops.nn_ops) with keep_prob is deprecated and will be removed in a future version.\n",
      "Instructions for updating:\n",
      "Please use `rate` instead of `keep_prob`. Rate should be set to `rate = 1 - keep_prob`.\n",
      "Model: \"sequential_1\"\n",
      "_________________________________________________________________\n",
      "Layer (type)                 Output Shape              Param #   \n",
      "=================================================================\n",
      "lstm_1 (LSTM)                (None, 32)                5376      \n",
      "_________________________________________________________________\n",
      "dropout_1 (Dropout)          (None, 32)                0         \n",
      "_________________________________________________________________\n",
      "dense_1 (Dense)              (None, 6)                 198       \n",
      "=================================================================\n",
      "Total params: 5,574\n",
      "Trainable params: 5,574\n",
      "Non-trainable params: 0\n",
      "_________________________________________________________________\n"
     ]
    }
   ],
   "source": [
    "# Initiliazing the sequential model\n",
    "model = Sequential()\n",
    "# Configuring the parameters\n",
    "model.add(LSTM(n_hidden, input_shape=(timesteps, input_dim)))\n",
    "# Adding a dropout layer\n",
    "model.add(Dropout(0.5))\n",
    "# Adding a dense output layer with sigmoid activation\n",
    "model.add(Dense(n_classes, activation='sigmoid'))\n",
    "model.summary()"
   ]
  },
  {
   "cell_type": "code",
   "execution_count": 22,
   "metadata": {
    "collapsed": true
   },
   "outputs": [],
   "source": [
    "# Compiling the model\n",
    "model.compile(loss='categorical_crossentropy',\n",
    "              optimizer='rmsprop',\n",
    "              metrics=['accuracy'])"
   ]
  },
  {
   "cell_type": "code",
   "execution_count": 23,
   "metadata": {},
   "outputs": [
    {
     "name": "stdout",
     "output_type": "stream",
     "text": [
      "Train on 7352 samples, validate on 2947 samples\n",
      "Epoch 1/30\n",
      "7352/7352 [==============================] - 92s 13ms/step - loss: 1.3018 - acc: 0.4395 - val_loss: 1.1254 - val_acc: 0.4662\n",
      "Epoch 2/30\n",
      "7352/7352 [==============================] - 94s 13ms/step - loss: 0.9666 - acc: 0.5880 - val_loss: 0.9491 - val_acc: 0.5714\n",
      "Epoch 3/30\n",
      "7352/7352 [==============================] - 97s 13ms/step - loss: 0.7812 - acc: 0.6408 - val_loss: 0.8286 - val_acc: 0.5850\n",
      "Epoch 4/30\n",
      "7352/7352 [==============================] - 95s 13ms/step - loss: 0.6941 - acc: 0.6574 - val_loss: 0.7297 - val_acc: 0.6128\n",
      "Epoch 5/30\n",
      "7352/7352 [==============================] - 92s 13ms/step - loss: 0.6336 - acc: 0.6912 - val_loss: 0.7359 - val_acc: 0.6787\n",
      "Epoch 6/30\n",
      "7352/7352 [==============================] - 94s 13ms/step - loss: 0.5859 - acc: 0.7134 - val_loss: 0.7015 - val_acc: 0.6939\n",
      "Epoch 7/30\n",
      "7352/7352 [==============================] - 95s 13ms/step - loss: 0.5692 - acc: 0.7477 - val_loss: 0.5995 - val_acc: 0.7387\n",
      "Epoch 8/30\n",
      "7352/7352 [==============================] - 96s 13ms/step - loss: 0.4899 - acc: 0.7809 - val_loss: 0.5762 - val_acc: 0.7387\n",
      "Epoch 9/30\n",
      "7352/7352 [==============================] - 90s 12ms/step - loss: 0.4482 - acc: 0.7886 - val_loss: 0.7413 - val_acc: 0.7126\n",
      "Epoch 10/30\n",
      "7352/7352 [==============================] - 90s 12ms/step - loss: 0.4132 - acc: 0.8077 - val_loss: 0.5048 - val_acc: 0.7513\n",
      "Epoch 11/30\n",
      "7352/7352 [==============================] - 89s 12ms/step - loss: 0.3985 - acc: 0.8274 - val_loss: 0.5234 - val_acc: 0.7452\n",
      "Epoch 12/30\n",
      "7352/7352 [==============================] - 91s 12ms/step - loss: 0.3378 - acc: 0.8638 - val_loss: 0.4114 - val_acc: 0.8833\n",
      "Epoch 13/30\n",
      "7352/7352 [==============================] - 91s 12ms/step - loss: 0.2947 - acc: 0.9051 - val_loss: 0.4386 - val_acc: 0.8731\n",
      "Epoch 14/30\n",
      "7352/7352 [==============================] - 90s 12ms/step - loss: 0.2448 - acc: 0.9291 - val_loss: 0.3768 - val_acc: 0.8921\n",
      "Epoch 15/30\n",
      "7352/7352 [==============================] - 91s 12ms/step - loss: 0.2157 - acc: 0.9331 - val_loss: 0.4441 - val_acc: 0.8931\n",
      "Epoch 16/30\n",
      "7352/7352 [==============================] - 90s 12ms/step - loss: 0.2053 - acc: 0.9366 - val_loss: 0.4162 - val_acc: 0.8968\n",
      "Epoch 17/30\n",
      "7352/7352 [==============================] - 89s 12ms/step - loss: 0.2028 - acc: 0.9404 - val_loss: 0.4538 - val_acc: 0.8962\n",
      "Epoch 18/30\n",
      "7352/7352 [==============================] - 93s 13ms/step - loss: 0.1911 - acc: 0.9419 - val_loss: 0.3964 - val_acc: 0.8999\n",
      "Epoch 19/30\n",
      "7352/7352 [==============================] - 96s 13ms/step - loss: 0.1912 - acc: 0.9407 - val_loss: 0.3165 - val_acc: 0.9030\n",
      "Epoch 20/30\n",
      "7352/7352 [==============================] - 96s 13ms/step - loss: 0.1732 - acc: 0.9446 - val_loss: 0.4546 - val_acc: 0.8904\n",
      "Epoch 21/30\n",
      "7352/7352 [==============================] - 94s 13ms/step - loss: 0.1782 - acc: 0.9444 - val_loss: 0.3346 - val_acc: 0.9063\n",
      "Epoch 22/30\n",
      "7352/7352 [==============================] - 95s 13ms/step - loss: 0.1812 - acc: 0.9418 - val_loss: 0.8164 - val_acc: 0.8582\n",
      "Epoch 23/30\n",
      "7352/7352 [==============================] - 95s 13ms/step - loss: 0.1824 - acc: 0.9426 - val_loss: 0.4240 - val_acc: 0.9036\n",
      "Epoch 24/30\n",
      "7352/7352 [==============================] - 94s 13ms/step - loss: 0.1726 - acc: 0.9429 - val_loss: 0.4067 - val_acc: 0.9148\n",
      "Epoch 25/30\n",
      "7352/7352 [==============================] - 96s 13ms/step - loss: 0.1737 - acc: 0.9411 - val_loss: 0.3396 - val_acc: 0.9074\n",
      "Epoch 26/30\n",
      "7352/7352 [==============================] - 96s 13ms/step - loss: 0.1650 - acc: 0.9461 - val_loss: 0.3806 - val_acc: 0.9019\n",
      "Epoch 27/30\n",
      "7352/7352 [==============================] - 89s 12ms/step - loss: 0.1925 - acc: 0.9415 - val_loss: 0.6464 - val_acc: 0.8850\n",
      "Epoch 28/30\n",
      "7352/7352 [==============================] - 91s 12ms/step - loss: 0.1965 - acc: 0.9425 - val_loss: 0.3363 - val_acc: 0.9203\n",
      "Epoch 29/30\n",
      "7352/7352 [==============================] - 92s 12ms/step - loss: 0.1889 - acc: 0.9431 - val_loss: 0.3737 - val_acc: 0.9158\n",
      "Epoch 30/30\n",
      "7352/7352 [==============================] - 95s 13ms/step - loss: 0.1945 - acc: 0.9414 - val_loss: 0.3088 - val_acc: 0.9097\n"
     ]
    },
    {
     "data": {
      "text/plain": [
       "<keras.callbacks.History at 0x29b5ee36a20>"
      ]
     },
     "execution_count": 23,
     "metadata": {},
     "output_type": "execute_result"
    }
   ],
   "source": [
    "# Training the model\n",
    "model.fit(X_train,\n",
    "          Y_train,\n",
    "          batch_size=batch_size,\n",
    "          validation_data=(X_test, Y_test),\n",
    "          epochs=epochs)"
   ]
  },
  {
   "cell_type": "code",
   "execution_count": 24,
   "metadata": {},
   "outputs": [
    {
     "name": "stdout",
     "output_type": "stream",
     "text": [
      "Pred                LAYING  SITTING  STANDING  WALKING  WALKING_DOWNSTAIRS  \\\n",
      "True                                                                         \n",
      "LAYING                 512        0        25        0                   0   \n",
      "SITTING                  3      410        75        0                   0   \n",
      "STANDING                 0       87       445        0                   0   \n",
      "WALKING                  0        0         0      481                   2   \n",
      "WALKING_DOWNSTAIRS       0        0         0        0                 382   \n",
      "WALKING_UPSTAIRS         0        0         0        2                  18   \n",
      "\n",
      "Pred                WALKING_UPSTAIRS  \n",
      "True                                  \n",
      "LAYING                             0  \n",
      "SITTING                            3  \n",
      "STANDING                           0  \n",
      "WALKING                           13  \n",
      "WALKING_DOWNSTAIRS                38  \n",
      "WALKING_UPSTAIRS                 451  \n"
     ]
    }
   ],
   "source": [
    "# Confusion Matrix\n",
    "print(confusion_matrix(Y_test, model.predict(X_test)))"
   ]
  },
  {
   "cell_type": "code",
   "execution_count": 27,
   "metadata": {},
   "outputs": [
    {
     "name": "stdout",
     "output_type": "stream",
     "text": [
      "2947/2947 [==============================] - 4s 2ms/step\n"
     ]
    }
   ],
   "source": [
    "score = model.evaluate(X_test, Y_test)"
   ]
  },
  {
   "cell_type": "code",
   "execution_count": 28,
   "metadata": {},
   "outputs": [
    {
     "data": {
      "text/plain": [
       "[0.3087582236972612, 0.9097387173396675]"
      ]
     },
     "execution_count": 28,
     "metadata": {},
     "output_type": "execute_result"
    }
   ],
   "source": [
    "score"
   ]
  },
  {
   "cell_type": "markdown",
   "metadata": {},
   "source": [
    "- With a simple 2 layer architecture we got 90.09% accuracy and a loss of 0.30\n",
    "- We can further imporve the performace with Hyperparameter tuning"
   ]
  },
  {
   "cell_type": "markdown",
   "metadata": {},
   "source": [
    "## LSTM models with 9 hidden units"
   ]
  },
  {
   "cell_type": "code",
   "execution_count": 21,
   "metadata": {},
   "outputs": [],
   "source": [
    "n_hidden = 9"
   ]
  },
  {
   "cell_type": "code",
   "execution_count": 22,
   "metadata": {},
   "outputs": [
    {
     "name": "stdout",
     "output_type": "stream",
     "text": [
      "Model: \"sequential_2\"\n",
      "_________________________________________________________________\n",
      "Layer (type)                 Output Shape              Param #   \n",
      "=================================================================\n",
      "lstm_2 (LSTM)                (None, 9)                 684       \n",
      "_________________________________________________________________\n",
      "dropout_2 (Dropout)          (None, 9)                 0         \n",
      "_________________________________________________________________\n",
      "dense_2 (Dense)              (None, 6)                 60        \n",
      "=================================================================\n",
      "Total params: 744\n",
      "Trainable params: 744\n",
      "Non-trainable params: 0\n",
      "_________________________________________________________________\n"
     ]
    }
   ],
   "source": [
    "# Initiliazing the sequential model\n",
    "model = Sequential()\n",
    "# Configuring the parameters\n",
    "model.add(LSTM(n_hidden, input_shape=(timesteps, input_dim)))\n",
    "# Adding a dropout layer\n",
    "model.add(Dropout(0.5))\n",
    "# Adding a dense output layer with sigmoid activation\n",
    "model.add(Dense(n_classes, activation='sigmoid'))\n",
    "model.summary()"
   ]
  },
  {
   "cell_type": "code",
   "execution_count": 23,
   "metadata": {},
   "outputs": [],
   "source": [
    "# Compiling the model\n",
    "model.compile(loss='categorical_crossentropy',\n",
    "              optimizer='rmsprop',\n",
    "              metrics=['accuracy'])"
   ]
  },
  {
   "cell_type": "code",
   "execution_count": 24,
   "metadata": {},
   "outputs": [
    {
     "name": "stdout",
     "output_type": "stream",
     "text": [
      "WARNING:tensorflow:From C:\\Users\\mishra_s\\AppData\\Local\\Continuum\\anaconda3\\lib\\site-packages\\tensorflow\\python\\ops\\math_ops.py:3066: to_int32 (from tensorflow.python.ops.math_ops) is deprecated and will be removed in a future version.\n",
      "Instructions for updating:\n",
      "Use tf.cast instead.\n",
      "Train on 7352 samples, validate on 2947 samples\n",
      "Epoch 1/30\n",
      "7352/7352 [==============================] - 50s 7ms/step - loss: 1.5873 - acc: 0.3575 - val_loss: 1.4696 - val_acc: 0.4479\n",
      "Epoch 2/30\n",
      "7352/7352 [==============================] - 48s 7ms/step - loss: 1.3778 - acc: 0.4276 - val_loss: 1.3392 - val_acc: 0.4791\n",
      "Epoch 3/30\n",
      "7352/7352 [==============================] - 46s 6ms/step - loss: 1.2766 - acc: 0.4518 - val_loss: 1.2409 - val_acc: 0.5127\n",
      "Epoch 4/30\n",
      "7352/7352 [==============================] - 46s 6ms/step - loss: 1.2307 - acc: 0.4689 - val_loss: 1.1858 - val_acc: 0.5151\n",
      "Epoch 5/30\n",
      "7352/7352 [==============================] - 46s 6ms/step - loss: 1.1720 - acc: 0.4874 - val_loss: 1.1393 - val_acc: 0.4890\n",
      "Epoch 6/30\n",
      "7352/7352 [==============================] - 48s 7ms/step - loss: 1.1577 - acc: 0.5126 - val_loss: 1.1051 - val_acc: 0.5735\n",
      "Epoch 7/30\n",
      "7352/7352 [==============================] - 48s 6ms/step - loss: 1.1198 - acc: 0.5388 - val_loss: 1.0724 - val_acc: 0.5986\n",
      "Epoch 8/30\n",
      "7352/7352 [==============================] - 47s 6ms/step - loss: 1.0960 - acc: 0.5623 - val_loss: 1.0427 - val_acc: 0.5792\n",
      "Epoch 9/30\n",
      "7352/7352 [==============================] - 46s 6ms/step - loss: 1.0297 - acc: 0.5698 - val_loss: 0.9720 - val_acc: 0.5321\n",
      "Epoch 10/30\n",
      "7352/7352 [==============================] - 46s 6ms/step - loss: 0.9672 - acc: 0.5782 - val_loss: 0.9620 - val_acc: 0.5836\n",
      "Epoch 11/30\n",
      "7352/7352 [==============================] - 46s 6ms/step - loss: 0.9227 - acc: 0.6024 - val_loss: 0.8501 - val_acc: 0.6356\n",
      "Epoch 12/30\n",
      "7352/7352 [==============================] - 47s 6ms/step - loss: 0.8724 - acc: 0.6453 - val_loss: 0.8405 - val_acc: 0.6434\n",
      "Epoch 13/30\n",
      "7352/7352 [==============================] - 47s 6ms/step - loss: 0.8537 - acc: 0.6715 - val_loss: 0.9957 - val_acc: 0.6461\n",
      "Epoch 14/30\n",
      "7352/7352 [==============================] - 46s 6ms/step - loss: 0.9046 - acc: 0.6468 - val_loss: 0.8366 - val_acc: 0.6932\n",
      "Epoch 15/30\n",
      "7352/7352 [==============================] - 47s 6ms/step - loss: 0.8167 - acc: 0.6824 - val_loss: 0.7678 - val_acc: 0.6888\n",
      "Epoch 16/30\n",
      "7352/7352 [==============================] - 46s 6ms/step - loss: 0.8644 - acc: 0.6600 - val_loss: 0.8451 - val_acc: 0.6678\n",
      "Epoch 17/30\n",
      "7352/7352 [==============================] - 46s 6ms/step - loss: 0.8246 - acc: 0.6696 - val_loss: 0.7656 - val_acc: 0.7044\n",
      "Epoch 18/30\n",
      "7352/7352 [==============================] - 46s 6ms/step - loss: 0.9855 - acc: 0.6270 - val_loss: 0.7536 - val_acc: 0.7143\n",
      "Epoch 19/30\n",
      "7352/7352 [==============================] - 46s 6ms/step - loss: 0.7690 - acc: 0.6923 - val_loss: 0.7611 - val_acc: 0.7041\n",
      "Epoch 20/30\n",
      "7352/7352 [==============================] - 46s 6ms/step - loss: 0.7631 - acc: 0.6975 - val_loss: 0.7318 - val_acc: 0.7160\n",
      "Epoch 21/30\n",
      "7352/7352 [==============================] - 58s 8ms/step - loss: 0.7788 - acc: 0.6950 - val_loss: 0.7893 - val_acc: 0.6834\n",
      "Epoch 22/30\n",
      "7352/7352 [==============================] - 48s 7ms/step - loss: 0.7371 - acc: 0.7111 - val_loss: 0.6796 - val_acc: 0.7139\n",
      "Epoch 23/30\n",
      "7352/7352 [==============================] - 47s 6ms/step - loss: 0.7174 - acc: 0.7214 - val_loss: 0.6652 - val_acc: 0.7146\n",
      "Epoch 24/30\n",
      "7352/7352 [==============================] - 45s 6ms/step - loss: 0.7075 - acc: 0.7210 - val_loss: 0.6749 - val_acc: 0.7184\n",
      "Epoch 25/30\n",
      "7352/7352 [==============================] - 48s 6ms/step - loss: 0.6779 - acc: 0.7354 - val_loss: 0.6185 - val_acc: 0.7251\n",
      "Epoch 26/30\n",
      "7352/7352 [==============================] - 47s 6ms/step - loss: 0.6850 - acc: 0.7314 - val_loss: 0.6364 - val_acc: 0.7268\n",
      "Epoch 27/30\n",
      "7352/7352 [==============================] - 50s 7ms/step - loss: 0.6617 - acc: 0.7429 - val_loss: 0.6396 - val_acc: 0.7411\n",
      "Epoch 28/30\n",
      "7352/7352 [==============================] - 49s 7ms/step - loss: 0.6611 - acc: 0.7378 - val_loss: 0.6852 - val_acc: 0.7224\n",
      "Epoch 29/30\n",
      "7352/7352 [==============================] - 48s 6ms/step - loss: 0.6631 - acc: 0.7422 - val_loss: 0.6989 - val_acc: 0.7255\n",
      "Epoch 30/30\n",
      "7352/7352 [==============================] - 47s 6ms/step - loss: 0.6565 - acc: 0.7552 - val_loss: 0.6752 - val_acc: 0.7285\n"
     ]
    }
   ],
   "source": [
    "# Training the model\n",
    "model_result = model.fit(X_train,\n",
    "          Y_train,\n",
    "          batch_size=batch_size,\n",
    "          validation_data=(X_test, Y_test),\n",
    "          epochs=epochs)"
   ]
  },
  {
   "cell_type": "code",
   "execution_count": 25,
   "metadata": {},
   "outputs": [
    {
     "name": "stdout",
     "output_type": "stream",
     "text": [
      "Pred                LAYING  SITTING  STANDING  WALKING  WALKING_DOWNSTAIRS  \\\n",
      "True                                                                         \n",
      "LAYING                 510        0         5        0                   0   \n",
      "SITTING                  1      398        92        0                   0   \n",
      "STANDING                 0      103       420        1                   0   \n",
      "WALKING                  0        0        13      355                  39   \n",
      "WALKING_DOWNSTAIRS       1        0         1      320                  86   \n",
      "WALKING_UPSTAIRS         0        0         0       75                  18   \n",
      "\n",
      "Pred                WALKING_UPSTAIRS  \n",
      "True                                  \n",
      "LAYING                            22  \n",
      "SITTING                            0  \n",
      "STANDING                           8  \n",
      "WALKING                           89  \n",
      "WALKING_DOWNSTAIRS                12  \n",
      "WALKING_UPSTAIRS                 378  \n"
     ]
    }
   ],
   "source": [
    "# Confusion Matrix\n",
    "print(confusion_matrix(Y_test, model.predict(X_test)))"
   ]
  },
  {
   "cell_type": "code",
   "execution_count": 26,
   "metadata": {},
   "outputs": [
    {
     "name": "stdout",
     "output_type": "stream",
     "text": [
      "2947/2947 [==============================] - 2s 526us/step\n"
     ]
    }
   ],
   "source": [
    "score = model.evaluate(X_test, Y_test)"
   ]
  },
  {
   "cell_type": "code",
   "execution_count": 27,
   "metadata": {},
   "outputs": [
    {
     "data": {
      "text/plain": [
       "[0.6751788828571267, 0.7285374957583983]"
      ]
     },
     "execution_count": 27,
     "metadata": {},
     "output_type": "execute_result"
    }
   ],
   "source": [
    "score"
   ]
  },
  {
   "cell_type": "markdown",
   "metadata": {},
   "source": [
    "- with fewer number of hidden units and dropout of 0.5, getting accuracy of 72%"
   ]
  },
  {
   "cell_type": "markdown",
   "metadata": {},
   "source": [
    "## Model having 32 hidden units and 0.3 dropout rate"
   ]
  },
  {
   "cell_type": "code",
   "execution_count": 98,
   "metadata": {},
   "outputs": [
    {
     "name": "stdout",
     "output_type": "stream",
     "text": [
      "Model: \"sequential_18\"\n",
      "_________________________________________________________________\n",
      "Layer (type)                 Output Shape              Param #   \n",
      "=================================================================\n",
      "lstm_23 (LSTM)               (None, 32)                5376      \n",
      "_________________________________________________________________\n",
      "dropout_14 (Dropout)         (None, 32)                0         \n",
      "_________________________________________________________________\n",
      "dense_12 (Dense)             (None, 6)                 198       \n",
      "=================================================================\n",
      "Total params: 5,574\n",
      "Trainable params: 5,574\n",
      "Non-trainable params: 0\n",
      "_________________________________________________________________\n"
     ]
    }
   ],
   "source": [
    "n_hidden = 32\n",
    "\n",
    "\n",
    "# Initiliazing the sequential model\n",
    "model = Sequential()\n",
    "# Configuring the parameters\n",
    "model.add(LSTM(n_hidden, input_shape=(timesteps, input_dim)))\n",
    "# Adding a dropout layer\n",
    "model.add(Dropout(0.3))\n",
    "# Adding a dense output layer with sigmoid activation\n",
    "model.add(Dense(n_classes, activation='sigmoid'))\n",
    "model.summary()"
   ]
  },
  {
   "cell_type": "code",
   "execution_count": 99,
   "metadata": {},
   "outputs": [],
   "source": [
    "# Compiling the model\n",
    "model.compile(loss='categorical_crossentropy',\n",
    "              optimizer='rmsprop',\n",
    "              metrics=['accuracy'])"
   ]
  },
  {
   "cell_type": "code",
   "execution_count": 100,
   "metadata": {},
   "outputs": [
    {
     "name": "stdout",
     "output_type": "stream",
     "text": [
      "Train on 7352 samples, validate on 2947 samples\n",
      "Epoch 1/30\n",
      "7352/7352 [==============================] - 67s 9ms/step - loss: 1.2652 - acc: 0.4523 - val_loss: 1.1144 - val_acc: 0.4717\n",
      "Epoch 2/30\n",
      "7352/7352 [==============================] - 57s 8ms/step - loss: 0.8755 - acc: 0.5983 - val_loss: 0.8536 - val_acc: 0.6563\n",
      "Epoch 3/30\n",
      "7352/7352 [==============================] - 58s 8ms/step - loss: 0.7634 - acc: 0.6508 - val_loss: 0.7893 - val_acc: 0.6010\n",
      "Epoch 4/30\n",
      "7352/7352 [==============================] - 58s 8ms/step - loss: 0.6754 - acc: 0.6587 - val_loss: 0.7699 - val_acc: 0.6196\n",
      "Epoch 5/30\n",
      "7352/7352 [==============================] - 59s 8ms/step - loss: 0.6008 - acc: 0.6861 - val_loss: 0.6942 - val_acc: 0.6895\n",
      "Epoch 6/30\n",
      "7352/7352 [==============================] - 62s 8ms/step - loss: 0.5590 - acc: 0.7365 - val_loss: 0.5912 - val_acc: 0.7360\n",
      "Epoch 7/30\n",
      "7352/7352 [==============================] - 58s 8ms/step - loss: 0.4780 - acc: 0.7712 - val_loss: 0.8360 - val_acc: 0.6861\n",
      "Epoch 8/30\n",
      "7352/7352 [==============================] - 57s 8ms/step - loss: 0.3989 - acc: 0.7894 - val_loss: 0.5354 - val_acc: 0.7302\n",
      "Epoch 9/30\n",
      "7352/7352 [==============================] - 59s 8ms/step - loss: 0.4017 - acc: 0.7862 - val_loss: 0.6236 - val_acc: 0.7194\n",
      "Epoch 10/30\n",
      "7352/7352 [==============================] - 62s 8ms/step - loss: 0.3488 - acc: 0.7988 - val_loss: 0.5021 - val_acc: 0.7462\n",
      "Epoch 11/30\n",
      "7352/7352 [==============================] - 57s 8ms/step - loss: 0.3168 - acc: 0.8101 - val_loss: 0.6262 - val_acc: 0.7323\n",
      "Epoch 12/30\n",
      "7352/7352 [==============================] - 60s 8ms/step - loss: 0.3017 - acc: 0.8218 - val_loss: 0.4947 - val_acc: 0.7526\n",
      "Epoch 13/30\n",
      "7352/7352 [==============================] - 57s 8ms/step - loss: 0.2807 - acc: 0.8339 - val_loss: 0.4903 - val_acc: 0.7492\n",
      "Epoch 14/30\n",
      "7352/7352 [==============================] - 56s 8ms/step - loss: 0.3011 - acc: 0.8445 - val_loss: 0.4668 - val_acc: 0.7716\n",
      "Epoch 15/30\n",
      "7352/7352 [==============================] - 59s 8ms/step - loss: 0.2700 - acc: 0.8613 - val_loss: 0.4984 - val_acc: 0.7550\n",
      "Epoch 16/30\n",
      "7352/7352 [==============================] - 56s 8ms/step - loss: 0.2621 - acc: 0.8726 - val_loss: 0.5246 - val_acc: 0.8402\n",
      "Epoch 17/30\n",
      "7352/7352 [==============================] - 58s 8ms/step - loss: 0.2567 - acc: 0.8836 - val_loss: 0.6824 - val_acc: 0.8507\n",
      "Epoch 18/30\n",
      "7352/7352 [==============================] - 58s 8ms/step - loss: 0.2619 - acc: 0.9011 - val_loss: 0.6007 - val_acc: 0.8687\n",
      "Epoch 19/30\n",
      "7352/7352 [==============================] - 58s 8ms/step - loss: 0.2426 - acc: 0.9313 - val_loss: 0.6080 - val_acc: 0.8738\n",
      "Epoch 20/30\n",
      "7352/7352 [==============================] - 59s 8ms/step - loss: 0.2023 - acc: 0.9374 - val_loss: 0.4139 - val_acc: 0.9013\n",
      "Epoch 21/30\n",
      "7352/7352 [==============================] - 59s 8ms/step - loss: 0.1652 - acc: 0.9434 - val_loss: 0.4438 - val_acc: 0.8928\n",
      "Epoch 22/30\n",
      "7352/7352 [==============================] - 58s 8ms/step - loss: 0.1829 - acc: 0.9422 - val_loss: 0.6281 - val_acc: 0.8711\n",
      "Epoch 23/30\n",
      "7352/7352 [==============================] - 58s 8ms/step - loss: 0.2231 - acc: 0.9378 - val_loss: 0.5228 - val_acc: 0.8765\n",
      "Epoch 24/30\n",
      "7352/7352 [==============================] - 58s 8ms/step - loss: 0.2082 - acc: 0.9353 - val_loss: 0.4835 - val_acc: 0.8918\n",
      "Epoch 25/30\n",
      "7352/7352 [==============================] - 64s 9ms/step - loss: 0.1732 - acc: 0.9450 - val_loss: 0.4039 - val_acc: 0.8938\n",
      "Epoch 26/30\n",
      "7352/7352 [==============================] - 68s 9ms/step - loss: 0.2113 - acc: 0.9399 - val_loss: 0.5054 - val_acc: 0.8741\n",
      "Epoch 27/30\n",
      "7352/7352 [==============================] - 56s 8ms/step - loss: 0.1557 - acc: 0.9480 - val_loss: 0.4718 - val_acc: 0.8982\n",
      "Epoch 28/30\n",
      "7352/7352 [==============================] - 50s 7ms/step - loss: 0.1668 - acc: 0.9441 - val_loss: 0.4443 - val_acc: 0.8958\n",
      "Epoch 29/30\n",
      "7352/7352 [==============================] - 50s 7ms/step - loss: 0.1550 - acc: 0.9476 - val_loss: 0.4599 - val_acc: 0.8965\n",
      "Epoch 30/30\n",
      "7352/7352 [==============================] - 50s 7ms/step - loss: 0.1625 - acc: 0.9479 - val_loss: 0.4676 - val_acc: 0.8877\n"
     ]
    }
   ],
   "source": [
    "# Training the model\n",
    "model_result = model.fit(X_train,\n",
    "          Y_train,\n",
    "          batch_size=batch_size,\n",
    "          validation_data=(X_test, Y_test),\n",
    "          epochs=epochs)"
   ]
  },
  {
   "cell_type": "code",
   "execution_count": 101,
   "metadata": {},
   "outputs": [
    {
     "name": "stdout",
     "output_type": "stream",
     "text": [
      "Pred                LAYING  SITTING  STANDING  WALKING  WALKING_DOWNSTAIRS  \\\n",
      "True                                                                         \n",
      "LAYING                 537        0         0        0                   0   \n",
      "SITTING                  0      412        76        0                   2   \n",
      "STANDING                 0      111       420        0                   0   \n",
      "WALKING                  0        0         0      446                  13   \n",
      "WALKING_DOWNSTAIRS       0        0         0        3                 347   \n",
      "WALKING_UPSTAIRS         0        1         0        1                  15   \n",
      "\n",
      "Pred                WALKING_UPSTAIRS  \n",
      "True                                  \n",
      "LAYING                             0  \n",
      "SITTING                            1  \n",
      "STANDING                           1  \n",
      "WALKING                           37  \n",
      "WALKING_DOWNSTAIRS                70  \n",
      "WALKING_UPSTAIRS                 454  \n"
     ]
    }
   ],
   "source": [
    "# Confusion Matrix\n",
    "print(confusion_matrix(Y_test, model.predict(X_test)))"
   ]
  },
  {
   "cell_type": "code",
   "execution_count": 102,
   "metadata": {},
   "outputs": [
    {
     "name": "stdout",
     "output_type": "stream",
     "text": [
      "2947/2947 [==============================] - 2s 606us/step\n"
     ]
    }
   ],
   "source": [
    "score = model.evaluate(X_test, Y_test)"
   ]
  },
  {
   "cell_type": "code",
   "execution_count": 103,
   "metadata": {},
   "outputs": [
    {
     "data": {
      "text/plain": [
       "[0.4676143296350844, 0.8876823888700374]"
      ]
     },
     "execution_count": 103,
     "metadata": {},
     "output_type": "execute_result"
    }
   ],
   "source": [
    "score"
   ]
  },
  {
   "cell_type": "markdown",
   "metadata": {},
   "source": [
    "## Model with 2 LSTM layers"
   ]
  },
  {
   "cell_type": "code",
   "execution_count": 111,
   "metadata": {},
   "outputs": [],
   "source": [
    "n_hidden = 20"
   ]
  },
  {
   "cell_type": "code",
   "execution_count": 112,
   "metadata": {},
   "outputs": [
    {
     "name": "stdout",
     "output_type": "stream",
     "text": [
      "Model: \"sequential_20\"\n",
      "_________________________________________________________________\n",
      "Layer (type)                 Output Shape              Param #   \n",
      "=================================================================\n",
      "lstm_26 (LSTM)               (None, 128, 20)           2400      \n",
      "_________________________________________________________________\n",
      "lstm_27 (LSTM)               (None, 20)                3280      \n",
      "_________________________________________________________________\n",
      "dropout_16 (Dropout)         (None, 20)                0         \n",
      "_________________________________________________________________\n",
      "dense_14 (Dense)             (None, 6)                 126       \n",
      "=================================================================\n",
      "Total params: 5,806\n",
      "Trainable params: 5,806\n",
      "Non-trainable params: 0\n",
      "_________________________________________________________________\n"
     ]
    }
   ],
   "source": [
    "# Initiliazing the sequential model\n",
    "model = Sequential()\n",
    "# Configuring the parameters\n",
    "model.add(LSTM(n_hidden, input_shape=(timesteps, input_dim), return_sequences=True))\n",
    "model.add(LSTM(n_hidden))\n",
    "# Adding a dropout layer\n",
    "model.add(Dropout(0.6))\n",
    "# Adding a dense output layer with sigmoid activation\n",
    "model.add(Dense(n_classes, activation='sigmoid'))\n",
    "model.summary()"
   ]
  },
  {
   "cell_type": "code",
   "execution_count": 113,
   "metadata": {},
   "outputs": [],
   "source": [
    "# Compiling the model\n",
    "model.compile(loss='categorical_crossentropy',\n",
    "              optimizer='rmsprop',\n",
    "              metrics=['accuracy'])"
   ]
  },
  {
   "cell_type": "code",
   "execution_count": 114,
   "metadata": {},
   "outputs": [
    {
     "name": "stdout",
     "output_type": "stream",
     "text": [
      "Train on 7352 samples, validate on 2947 samples\n",
      "Epoch 1/40\n",
      "7352/7352 [==============================] - 107s 15ms/step - loss: 1.3844 - acc: 0.4117 - val_loss: 1.1680 - val_acc: 0.5158\n",
      "Epoch 2/40\n",
      "7352/7352 [==============================] - 100s 14ms/step - loss: 1.0511 - acc: 0.5297 - val_loss: 0.9515 - val_acc: 0.5877\n",
      "Epoch 3/40\n",
      "7352/7352 [==============================] - 100s 14ms/step - loss: 0.9090 - acc: 0.5698 - val_loss: 0.8279 - val_acc: 0.6105\n",
      "Epoch 4/40\n",
      "7352/7352 [==============================] - 99s 13ms/step - loss: 0.7957 - acc: 0.6147 - val_loss: 0.8115 - val_acc: 0.5833\n",
      "Epoch 5/40\n",
      "7352/7352 [==============================] - 99s 13ms/step - loss: 0.7439 - acc: 0.6412 - val_loss: 0.7850 - val_acc: 0.6213\n",
      "Epoch 6/40\n",
      "7352/7352 [==============================] - 100s 14ms/step - loss: 0.7346 - acc: 0.6453 - val_loss: 0.7462 - val_acc: 0.6434\n",
      "Epoch 7/40\n",
      "7352/7352 [==============================] - 100s 14ms/step - loss: 0.7007 - acc: 0.6523 - val_loss: 0.7445 - val_acc: 0.6413\n",
      "Epoch 8/40\n",
      "7352/7352 [==============================] - 98s 13ms/step - loss: 0.7095 - acc: 0.6493 - val_loss: 0.7871 - val_acc: 0.6179\n",
      "Epoch 9/40\n",
      "7352/7352 [==============================] - 98s 13ms/step - loss: 0.6993 - acc: 0.6600 - val_loss: 0.7457 - val_acc: 0.6210\n",
      "Epoch 10/40\n",
      "7352/7352 [==============================] - 100s 14ms/step - loss: 0.6707 - acc: 0.6639 - val_loss: 0.7212 - val_acc: 0.6183\n",
      "Epoch 11/40\n",
      "7352/7352 [==============================] - 101s 14ms/step - loss: 0.6515 - acc: 0.6609 - val_loss: 0.7568 - val_acc: 0.6223\n",
      "Epoch 12/40\n",
      "7352/7352 [==============================] - 100s 14ms/step - loss: 0.6149 - acc: 0.6594 - val_loss: 0.7382 - val_acc: 0.6149\n",
      "Epoch 13/40\n",
      "7352/7352 [==============================] - 98s 13ms/step - loss: 0.5964 - acc: 0.6627 - val_loss: 0.6929 - val_acc: 0.6189\n",
      "Epoch 14/40\n",
      "7352/7352 [==============================] - 99s 13ms/step - loss: 0.5686 - acc: 0.6627 - val_loss: 0.6008 - val_acc: 0.6210\n",
      "Epoch 15/40\n",
      "7352/7352 [==============================] - 99s 13ms/step - loss: 0.5399 - acc: 0.6702 - val_loss: 0.5917 - val_acc: 0.6240\n",
      "Epoch 16/40\n",
      "7352/7352 [==============================] - 98s 13ms/step - loss: 0.5326 - acc: 0.6712 - val_loss: 0.5750 - val_acc: 0.6261\n",
      "Epoch 17/40\n",
      "7352/7352 [==============================] - 101s 14ms/step - loss: 0.5251 - acc: 0.6759 - val_loss: 0.6106 - val_acc: 0.6305\n",
      "Epoch 18/40\n",
      "7352/7352 [==============================] - 101s 14ms/step - loss: 0.5197 - acc: 0.6761 - val_loss: 0.6134 - val_acc: 0.6193\n",
      "Epoch 19/40\n",
      "7352/7352 [==============================] - 101s 14ms/step - loss: 0.5135 - acc: 0.6786 - val_loss: 0.6110 - val_acc: 0.6223\n",
      "Epoch 20/40\n",
      "7352/7352 [==============================] - 99s 13ms/step - loss: 0.5136 - acc: 0.6751 - val_loss: 0.6174 - val_acc: 0.6237\n",
      "Epoch 21/40\n",
      "7352/7352 [==============================] - 100s 14ms/step - loss: 0.5041 - acc: 0.6770 - val_loss: 0.6030 - val_acc: 0.6203\n",
      "Epoch 22/40\n",
      "7352/7352 [==============================] - 99s 14ms/step - loss: 0.5073 - acc: 0.6802 - val_loss: 0.6430 - val_acc: 0.6176\n",
      "Epoch 23/40\n",
      "7352/7352 [==============================] - 99s 13ms/step - loss: 0.4869 - acc: 0.6821 - val_loss: 0.6735 - val_acc: 0.6213\n",
      "Epoch 24/40\n",
      "7352/7352 [==============================] - 102s 14ms/step - loss: 0.4983 - acc: 0.6828 - val_loss: 0.5758 - val_acc: 0.6240\n",
      "Epoch 25/40\n",
      "7352/7352 [==============================] - 98s 13ms/step - loss: 0.5039 - acc: 0.6824 - val_loss: 0.5739 - val_acc: 0.6179\n",
      "Epoch 26/40\n",
      "7352/7352 [==============================] - 98s 13ms/step - loss: 0.4881 - acc: 0.6912 - val_loss: 0.5831 - val_acc: 0.6230\n",
      "Epoch 27/40\n",
      "7352/7352 [==============================] - 99s 13ms/step - loss: 0.5088 - acc: 0.6929 - val_loss: 0.5870 - val_acc: 0.6271\n",
      "Epoch 28/40\n",
      "7352/7352 [==============================] - 98s 13ms/step - loss: 0.4854 - acc: 0.7018 - val_loss: 0.5988 - val_acc: 0.6264\n",
      "Epoch 29/40\n",
      "7352/7352 [==============================] - 99s 13ms/step - loss: 0.4719 - acc: 0.7193 - val_loss: 0.5604 - val_acc: 0.6206\n",
      "Epoch 30/40\n",
      "7352/7352 [==============================] - 98s 13ms/step - loss: 0.4566 - acc: 0.7344 - val_loss: 0.5834 - val_acc: 0.7615\n",
      "Epoch 31/40\n",
      "7352/7352 [==============================] - 98s 13ms/step - loss: 0.4397 - acc: 0.7686 - val_loss: 0.5056 - val_acc: 0.7682\n",
      "Epoch 32/40\n",
      "7352/7352 [==============================] - 99s 13ms/step - loss: 0.3981 - acc: 0.8007 - val_loss: 0.5232 - val_acc: 0.7604\n",
      "Epoch 33/40\n",
      "7352/7352 [==============================] - 99s 13ms/step - loss: 0.3840 - acc: 0.8075 - val_loss: 0.5003 - val_acc: 0.7710\n",
      "Epoch 34/40\n",
      "7352/7352 [==============================] - 98s 13ms/step - loss: 0.4033 - acc: 0.8210 - val_loss: 0.5293 - val_acc: 0.7679\n",
      "Epoch 35/40\n",
      "7352/7352 [==============================] - 98s 13ms/step - loss: 0.3841 - acc: 0.8338 - val_loss: 0.5255 - val_acc: 0.8768\n",
      "Epoch 36/40\n",
      "7352/7352 [==============================] - 98s 13ms/step - loss: 0.3495 - acc: 0.8731 - val_loss: 0.4658 - val_acc: 0.8914\n",
      "Epoch 37/40\n",
      "7352/7352 [==============================] - 99s 13ms/step - loss: 0.3181 - acc: 0.8984 - val_loss: 0.4548 - val_acc: 0.8884\n",
      "Epoch 38/40\n",
      "7352/7352 [==============================] - 99s 13ms/step - loss: 0.2749 - acc: 0.9123 - val_loss: 0.3773 - val_acc: 0.8951\n",
      "Epoch 39/40\n",
      "7352/7352 [==============================] - 99s 13ms/step - loss: 0.2471 - acc: 0.9163 - val_loss: 0.3742 - val_acc: 0.9046\n",
      "Epoch 40/40\n",
      "7352/7352 [==============================] - 98s 13ms/step - loss: 0.2405 - acc: 0.9267 - val_loss: 0.3964 - val_acc: 0.8921\n"
     ]
    }
   ],
   "source": [
    "# Training the model\n",
    "model_result = model.fit(X_train,\n",
    "          Y_train,\n",
    "          batch_size=batch_size,\n",
    "          validation_data=(X_test, Y_test),\n",
    "          epochs=40)"
   ]
  },
  {
   "cell_type": "code",
   "execution_count": 115,
   "metadata": {},
   "outputs": [
    {
     "name": "stdout",
     "output_type": "stream",
     "text": [
      "Pred                LAYING  SITTING  STANDING  WALKING  WALKING_DOWNSTAIRS  \\\n",
      "True                                                                         \n",
      "LAYING                 510        0        27        0                   0   \n",
      "SITTING                  0      416        67        1                   0   \n",
      "STANDING                 0       95       433        4                   0   \n",
      "WALKING                  0        0         0      438                   0   \n",
      "WALKING_DOWNSTAIRS       0        0         0        0                 367   \n",
      "WALKING_UPSTAIRS         0        1         0        3                   2   \n",
      "\n",
      "Pred                WALKING_UPSTAIRS  \n",
      "True                                  \n",
      "LAYING                             0  \n",
      "SITTING                            7  \n",
      "STANDING                           0  \n",
      "WALKING                           58  \n",
      "WALKING_DOWNSTAIRS                53  \n",
      "WALKING_UPSTAIRS                 465  \n"
     ]
    }
   ],
   "source": [
    "# Confusion Matrix\n",
    "print(confusion_matrix(Y_test, model.predict(X_test)))"
   ]
  },
  {
   "cell_type": "code",
   "execution_count": 117,
   "metadata": {},
   "outputs": [
    {
     "name": "stdout",
     "output_type": "stream",
     "text": [
      "2947/2947 [==============================] - 4s 1ms/step\n"
     ]
    }
   ],
   "source": [
    "score = model.evaluate(X_test, Y_test)"
   ]
  },
  {
   "cell_type": "code",
   "execution_count": 118,
   "metadata": {},
   "outputs": [
    {
     "data": {
      "text/plain": [
       "[0.39639775041275266, 0.8920936545639634]"
      ]
     },
     "execution_count": 118,
     "metadata": {},
     "output_type": "execute_result"
    }
   ],
   "source": [
    "score"
   ]
  },
  {
   "cell_type": "markdown",
   "metadata": {},
   "source": [
    "# Using divide an conquer 1DCNN"
   ]
  },
  {
   "cell_type": "markdown",
   "metadata": {},
   "source": [
    "Reference\n",
    "https://app.dimensions.ai/details/publication/pub.1101891256#readcube-epdf"
   ]
  },
  {
   "cell_type": "markdown",
   "metadata": {},
   "source": [
    "Classification is divided into 2 stages:\n",
    "- First stage consist of decision tree classifier where it classifies wheter activity is static or dynamic.\n",
    "- Second stage consist of 2 models(1DCNN based) which predicts following:\n",
    "    - if first stage predicts static: then this stage predict whether it's LAYING, SITTING, STANDING\n",
    "    - if first stage predicts dynamic: then this stage predict whether it's WALKING, UP_STAIRS, DONW_STAIRS"
   ]
  },
  {
   "cell_type": "markdown",
   "metadata": {},
   "source": [
    "## getting data"
   ]
  },
  {
   "cell_type": "code",
   "execution_count": 127,
   "metadata": {},
   "outputs": [
    {
     "name": "stdout",
     "output_type": "stream",
     "text": [
      "(7352, 564) (2947, 564)\n"
     ]
    }
   ],
   "source": [
    "train = pd.read_csv('UCI_HAR_dataset/csv_files/train.csv')\n",
    "test = pd.read_csv('UCI_HAR_dataset/csv_files/test.csv')\n",
    "print(train.shape, test.shape)"
   ]
  },
  {
   "cell_type": "code",
   "execution_count": 134,
   "metadata": {},
   "outputs": [],
   "source": [
    "# get X_train and y_train from csv files\n",
    "X_train = train.drop(['subject', 'Activity', 'ActivityName'], axis=1)\n",
    "y_train = train.Activity\n",
    "\n",
    "# get X_test and y_test from test csv file\n",
    "X_test = test.drop(['subject', 'Activity', 'ActivityName'], axis=1)\n",
    "y_test = test.Activity"
   ]
  },
  {
   "cell_type": "markdown",
   "metadata": {},
   "source": [
    "### Loading Saved Models"
   ]
  },
  {
   "cell_type": "code",
   "execution_count": 122,
   "metadata": {},
   "outputs": [],
   "source": [
    "first_stage_model = pickle.load(open('trained_models/first_stage_model.sav', 'rb'))"
   ]
  },
  {
   "cell_type": "code",
   "execution_count": 130,
   "metadata": {},
   "outputs": [],
   "source": [
    "dynamic_model_path = \"trained_models/dynamic_hra_model.h5\"\n",
    "dynamic_model = load_model(dynamic_model_path)"
   ]
  },
  {
   "cell_type": "code",
   "execution_count": 131,
   "metadata": {},
   "outputs": [],
   "source": [
    "static_model_path = \"trained_models/static_hra_model.h5\"\n",
    "static_model = load_model(static_model_path)"
   ]
  },
  {
   "cell_type": "code",
   "execution_count": 155,
   "metadata": {},
   "outputs": [],
   "source": [
    "y_pred = []\n",
    "for i in range(len(X_test)):\n",
    "    first_stage_op = first_stage_model.predict([X_test.loc[i]])[0]\n",
    "    if first_stage_op == 0: #it's dynamic activity\n",
    "        predicted_values_prob = dynamic_model.predict(np.expand_dims([X_test.loc[i]], axis=2))\n",
    "        predicted_value = np.argmax(predicted_values_prob[0])\n",
    "        predicted_value += 1\n",
    "        y_pred.append(predicted_value)\n",
    "    else:\n",
    "        predicted_values_prob = static_model.predict(np.expand_dims([X_test.loc[i]], axis=2))\n",
    "        predicted_value = np.argmax(predicted_values_prob[0])\n",
    "        predicted_value += 4\n",
    "        y_pred.append(predicted_value)"
   ]
  },
  {
   "cell_type": "code",
   "execution_count": 156,
   "metadata": {},
   "outputs": [
    {
     "name": "stdout",
     "output_type": "stream",
     "text": [
      "0.9636918900576857\n"
     ]
    }
   ],
   "source": [
    "accuracy = accuracy_score(y_true=y_test, y_pred=y_pred)\n",
    "print(accuracy)"
   ]
  },
  {
   "cell_type": "code",
   "execution_count": 161,
   "metadata": {},
   "outputs": [
    {
     "name": "stdout",
     "output_type": "stream",
     "text": [
      "Pred                LAYING  SITTING  STANDING  WALKING  WALKING_DOWNSTAIRS  \\\n",
      "True                                                                         \n",
      "LAYING                 537        0         0        0                   0   \n",
      "SITTING                  0      463        28        0                   0   \n",
      "STANDING                 0       36       496        0                   0   \n",
      "WALKING                  0        0         0      496                   0   \n",
      "WALKING_DOWNSTAIRS       0        0         0        1                 416   \n",
      "WALKING_UPSTAIRS         0        0         0       36                   3   \n",
      "\n",
      "Pred                WALKING_UPSTAIRS  \n",
      "True                                  \n",
      "LAYING                             0  \n",
      "SITTING                            0  \n",
      "STANDING                           0  \n",
      "WALKING                            0  \n",
      "WALKING_DOWNSTAIRS                 3  \n",
      "WALKING_UPSTAIRS                 432  \n"
     ]
    }
   ],
   "source": [
    "Y_true = pd.Series([ACTIVITIES[y-1] for y in y_test])\n",
    "Y_pred = pd.Series([ACTIVITIES[y-1] for y in y_pred])\n",
    "\n",
    "print(pd.crosstab(Y_true, Y_pred, rownames=['True'], colnames=['Pred']))"
   ]
  },
  {
   "cell_type": "code",
   "execution_count": 162,
   "metadata": {},
   "outputs": [
    {
     "name": "stdout",
     "output_type": "stream",
     "text": [
      "+------------------------------------------------+----------+\n",
      "|                     Model                      | Accuracy |\n",
      "+------------------------------------------------+----------+\n",
      "| LSTM Layers(2), Dropout(0.5), hidden_units(32) |    90    |\n",
      "| LSTM Layers(1), Dropout(0.5), hidden_units(9)  |   72.8   |\n",
      "| LSTM Layers(1), Dropout(0.3), hidden_units(32) |   88.7   |\n",
      "| LSTM Layers(2), Dropout(0.6), hidden_units(20) |   89.2   |\n",
      "|             Divide and conquer CNN             |  96.36   |\n",
      "+------------------------------------------------+----------+\n"
     ]
    }
   ],
   "source": [
    "# Please compare all your models using Prettytable library\n",
    "from prettytable import PrettyTable\n",
    "\n",
    "table = PrettyTable();\n",
    "table.field_names = ['Model', 'Accuracy'];\n",
    "table.add_row(['LSTM Layers(2), Dropout(0.5), hidden_units(32)', '90'])\n",
    "table.add_row(['LSTM Layers(1), Dropout(0.5), hidden_units(9)', '72.8'])\n",
    "table.add_row(['LSTM Layers(1), Dropout(0.3), hidden_units(32)', '88.7'])\n",
    "table.add_row(['LSTM Layers(2), Dropout(0.6), hidden_units(20)', '89.2'])\n",
    "table.add_row(['Divide and conquer CNN', '96.36'])\n",
    "\n",
    "print(table)"
   ]
  }
 ],
 "metadata": {
  "kernelspec": {
   "display_name": "Python 3",
   "language": "python",
   "name": "python3"
  },
  "language_info": {
   "codemirror_mode": {
    "name": "ipython",
    "version": 3
   },
   "file_extension": ".py",
   "mimetype": "text/x-python",
   "name": "python",
   "nbconvert_exporter": "python",
   "pygments_lexer": "ipython3",
   "version": "3.6.5"
  }
 },
 "nbformat": 4,
 "nbformat_minor": 2
}
