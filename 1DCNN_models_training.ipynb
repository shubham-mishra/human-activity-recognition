{
 "cells": [
  {
   "cell_type": "code",
   "execution_count": 140,
   "metadata": {},
   "outputs": [],
   "source": [
    "import pandas as pd\n",
    "import numpy as np\n",
    "import random\n",
    "from keras.models import Sequential\n",
    "from keras.layers import LSTM, Conv1D, MaxPooling1D\n",
    "from keras.layers.core import Dense, Dropout, Flatten, Dropout\n",
    "from keras.utils import to_categorical\n",
    "from keras.optimizers import Adam\n",
    "from sklearn.model_selection import GridSearchCV\n",
    "from sklearn.metrics import accuracy_score"
   ]
  },
  {
   "cell_type": "markdown",
   "metadata": {},
   "source": [
    "# Getting generated train and test features"
   ]
  },
  {
   "cell_type": "code",
   "execution_count": 2,
   "metadata": {},
   "outputs": [
    {
     "name": "stdout",
     "output_type": "stream",
     "text": [
      "(7352, 564) (2947, 564)\n"
     ]
    }
   ],
   "source": [
    "train = pd.read_csv('UCI_HAR_dataset/csv_files/train.csv')\n",
    "test = pd.read_csv('UCI_HAR_dataset/csv_files/test.csv')\n",
    "print(train.shape, test.shape)"
   ]
  },
  {
   "cell_type": "code",
   "execution_count": 3,
   "metadata": {},
   "outputs": [
    {
     "data": {
      "text/html": [
       "<div>\n",
       "<style scoped>\n",
       "    .dataframe tbody tr th:only-of-type {\n",
       "        vertical-align: middle;\n",
       "    }\n",
       "\n",
       "    .dataframe tbody tr th {\n",
       "        vertical-align: top;\n",
       "    }\n",
       "\n",
       "    .dataframe thead th {\n",
       "        text-align: right;\n",
       "    }\n",
       "</style>\n",
       "<table border=\"1\" class=\"dataframe\">\n",
       "  <thead>\n",
       "    <tr style=\"text-align: right;\">\n",
       "      <th></th>\n",
       "      <th>tBodyAccmeanX</th>\n",
       "      <th>tBodyAccmeanY</th>\n",
       "      <th>tBodyAccmeanZ</th>\n",
       "      <th>tBodyAccstdX</th>\n",
       "      <th>tBodyAccstdY</th>\n",
       "      <th>tBodyAccstdZ</th>\n",
       "      <th>tBodyAccmadX</th>\n",
       "      <th>tBodyAccmadY</th>\n",
       "      <th>tBodyAccmadZ</th>\n",
       "      <th>tBodyAccmaxX</th>\n",
       "      <th>...</th>\n",
       "      <th>angletBodyAccMeangravity</th>\n",
       "      <th>angletBodyAccJerkMeangravityMean</th>\n",
       "      <th>angletBodyGyroMeangravityMean</th>\n",
       "      <th>angletBodyGyroJerkMeangravityMean</th>\n",
       "      <th>angleXgravityMean</th>\n",
       "      <th>angleYgravityMean</th>\n",
       "      <th>angleZgravityMean</th>\n",
       "      <th>subject</th>\n",
       "      <th>Activity</th>\n",
       "      <th>ActivityName</th>\n",
       "    </tr>\n",
       "  </thead>\n",
       "  <tbody>\n",
       "    <tr>\n",
       "      <td>0</td>\n",
       "      <td>0.288585</td>\n",
       "      <td>-0.020294</td>\n",
       "      <td>-0.132905</td>\n",
       "      <td>-0.995279</td>\n",
       "      <td>-0.983111</td>\n",
       "      <td>-0.913526</td>\n",
       "      <td>-0.995112</td>\n",
       "      <td>-0.983185</td>\n",
       "      <td>-0.923527</td>\n",
       "      <td>-0.934724</td>\n",
       "      <td>...</td>\n",
       "      <td>-0.112754</td>\n",
       "      <td>0.030400</td>\n",
       "      <td>-0.464761</td>\n",
       "      <td>-0.018446</td>\n",
       "      <td>-0.841247</td>\n",
       "      <td>0.179941</td>\n",
       "      <td>-0.058627</td>\n",
       "      <td>1</td>\n",
       "      <td>5</td>\n",
       "      <td>STANDING</td>\n",
       "    </tr>\n",
       "    <tr>\n",
       "      <td>1</td>\n",
       "      <td>0.278419</td>\n",
       "      <td>-0.016411</td>\n",
       "      <td>-0.123520</td>\n",
       "      <td>-0.998245</td>\n",
       "      <td>-0.975300</td>\n",
       "      <td>-0.960322</td>\n",
       "      <td>-0.998807</td>\n",
       "      <td>-0.974914</td>\n",
       "      <td>-0.957686</td>\n",
       "      <td>-0.943068</td>\n",
       "      <td>...</td>\n",
       "      <td>0.053477</td>\n",
       "      <td>-0.007435</td>\n",
       "      <td>-0.732626</td>\n",
       "      <td>0.703511</td>\n",
       "      <td>-0.844788</td>\n",
       "      <td>0.180289</td>\n",
       "      <td>-0.054317</td>\n",
       "      <td>1</td>\n",
       "      <td>5</td>\n",
       "      <td>STANDING</td>\n",
       "    </tr>\n",
       "    <tr>\n",
       "      <td>2</td>\n",
       "      <td>0.279653</td>\n",
       "      <td>-0.019467</td>\n",
       "      <td>-0.113462</td>\n",
       "      <td>-0.995380</td>\n",
       "      <td>-0.967187</td>\n",
       "      <td>-0.978944</td>\n",
       "      <td>-0.996520</td>\n",
       "      <td>-0.963668</td>\n",
       "      <td>-0.977469</td>\n",
       "      <td>-0.938692</td>\n",
       "      <td>...</td>\n",
       "      <td>-0.118559</td>\n",
       "      <td>0.177899</td>\n",
       "      <td>0.100699</td>\n",
       "      <td>0.808529</td>\n",
       "      <td>-0.848933</td>\n",
       "      <td>0.180637</td>\n",
       "      <td>-0.049118</td>\n",
       "      <td>1</td>\n",
       "      <td>5</td>\n",
       "      <td>STANDING</td>\n",
       "    </tr>\n",
       "    <tr>\n",
       "      <td>3</td>\n",
       "      <td>0.279174</td>\n",
       "      <td>-0.026201</td>\n",
       "      <td>-0.123283</td>\n",
       "      <td>-0.996091</td>\n",
       "      <td>-0.983403</td>\n",
       "      <td>-0.990675</td>\n",
       "      <td>-0.997099</td>\n",
       "      <td>-0.982750</td>\n",
       "      <td>-0.989302</td>\n",
       "      <td>-0.938692</td>\n",
       "      <td>...</td>\n",
       "      <td>-0.036788</td>\n",
       "      <td>-0.012892</td>\n",
       "      <td>0.640011</td>\n",
       "      <td>-0.485366</td>\n",
       "      <td>-0.848649</td>\n",
       "      <td>0.181935</td>\n",
       "      <td>-0.047663</td>\n",
       "      <td>1</td>\n",
       "      <td>5</td>\n",
       "      <td>STANDING</td>\n",
       "    </tr>\n",
       "    <tr>\n",
       "      <td>4</td>\n",
       "      <td>0.276629</td>\n",
       "      <td>-0.016570</td>\n",
       "      <td>-0.115362</td>\n",
       "      <td>-0.998139</td>\n",
       "      <td>-0.980817</td>\n",
       "      <td>-0.990482</td>\n",
       "      <td>-0.998321</td>\n",
       "      <td>-0.979672</td>\n",
       "      <td>-0.990441</td>\n",
       "      <td>-0.942469</td>\n",
       "      <td>...</td>\n",
       "      <td>0.123320</td>\n",
       "      <td>0.122542</td>\n",
       "      <td>0.693578</td>\n",
       "      <td>-0.615971</td>\n",
       "      <td>-0.847865</td>\n",
       "      <td>0.185151</td>\n",
       "      <td>-0.043892</td>\n",
       "      <td>1</td>\n",
       "      <td>5</td>\n",
       "      <td>STANDING</td>\n",
       "    </tr>\n",
       "  </tbody>\n",
       "</table>\n",
       "<p>5 rows × 564 columns</p>\n",
       "</div>"
      ],
      "text/plain": [
       "   tBodyAccmeanX  tBodyAccmeanY  tBodyAccmeanZ  tBodyAccstdX  tBodyAccstdY  \\\n",
       "0       0.288585      -0.020294      -0.132905     -0.995279     -0.983111   \n",
       "1       0.278419      -0.016411      -0.123520     -0.998245     -0.975300   \n",
       "2       0.279653      -0.019467      -0.113462     -0.995380     -0.967187   \n",
       "3       0.279174      -0.026201      -0.123283     -0.996091     -0.983403   \n",
       "4       0.276629      -0.016570      -0.115362     -0.998139     -0.980817   \n",
       "\n",
       "   tBodyAccstdZ  tBodyAccmadX  tBodyAccmadY  tBodyAccmadZ  tBodyAccmaxX  ...  \\\n",
       "0     -0.913526     -0.995112     -0.983185     -0.923527     -0.934724  ...   \n",
       "1     -0.960322     -0.998807     -0.974914     -0.957686     -0.943068  ...   \n",
       "2     -0.978944     -0.996520     -0.963668     -0.977469     -0.938692  ...   \n",
       "3     -0.990675     -0.997099     -0.982750     -0.989302     -0.938692  ...   \n",
       "4     -0.990482     -0.998321     -0.979672     -0.990441     -0.942469  ...   \n",
       "\n",
       "   angletBodyAccMeangravity  angletBodyAccJerkMeangravityMean  \\\n",
       "0                 -0.112754                          0.030400   \n",
       "1                  0.053477                         -0.007435   \n",
       "2                 -0.118559                          0.177899   \n",
       "3                 -0.036788                         -0.012892   \n",
       "4                  0.123320                          0.122542   \n",
       "\n",
       "   angletBodyGyroMeangravityMean  angletBodyGyroJerkMeangravityMean  \\\n",
       "0                      -0.464761                          -0.018446   \n",
       "1                      -0.732626                           0.703511   \n",
       "2                       0.100699                           0.808529   \n",
       "3                       0.640011                          -0.485366   \n",
       "4                       0.693578                          -0.615971   \n",
       "\n",
       "   angleXgravityMean  angleYgravityMean  angleZgravityMean  subject  Activity  \\\n",
       "0          -0.841247           0.179941          -0.058627        1         5   \n",
       "1          -0.844788           0.180289          -0.054317        1         5   \n",
       "2          -0.848933           0.180637          -0.049118        1         5   \n",
       "3          -0.848649           0.181935          -0.047663        1         5   \n",
       "4          -0.847865           0.185151          -0.043892        1         5   \n",
       "\n",
       "   ActivityName  \n",
       "0      STANDING  \n",
       "1      STANDING  \n",
       "2      STANDING  \n",
       "3      STANDING  \n",
       "4      STANDING  \n",
       "\n",
       "[5 rows x 564 columns]"
      ]
     },
     "execution_count": 3,
     "metadata": {},
     "output_type": "execute_result"
    }
   ],
   "source": [
    "train.head()"
   ]
  },
  {
   "cell_type": "code",
   "execution_count": 25,
   "metadata": {},
   "outputs": [],
   "source": [
    "# get X_train and y_train from csv files\n",
    "X_train = train.drop(['subject', 'Activity', 'ActivityName'], axis=1)\n",
    "y_train = train.Activity\n",
    "\n",
    "# get X_test and y_test from test csv file\n",
    "X_test = test.drop(['subject', 'Activity', 'ActivityName'], axis=1)\n",
    "y_test = test.Activity"
   ]
  },
  {
   "cell_type": "code",
   "execution_count": 26,
   "metadata": {},
   "outputs": [
    {
     "name": "stdout",
     "output_type": "stream",
     "text": [
      "X_train and y_train : ((7352, 561),(7352,))\n",
      "X_test  and y_test  : ((2947, 561),(2947,))\n"
     ]
    }
   ],
   "source": [
    "print('X_train and y_train : ({},{})'.format(X_train.shape, y_train.shape))\n",
    "print('X_test  and y_test  : ({},{})'.format(X_test.shape, y_test.shape))"
   ]
  },
  {
   "cell_type": "code",
   "execution_count": 27,
   "metadata": {},
   "outputs": [
    {
     "data": {
      "text/html": [
       "<div>\n",
       "<style scoped>\n",
       "    .dataframe tbody tr th:only-of-type {\n",
       "        vertical-align: middle;\n",
       "    }\n",
       "\n",
       "    .dataframe tbody tr th {\n",
       "        vertical-align: top;\n",
       "    }\n",
       "\n",
       "    .dataframe thead th {\n",
       "        text-align: right;\n",
       "    }\n",
       "</style>\n",
       "<table border=\"1\" class=\"dataframe\">\n",
       "  <thead>\n",
       "    <tr style=\"text-align: right;\">\n",
       "      <th></th>\n",
       "      <th>tBodyAccmeanX</th>\n",
       "      <th>tBodyAccmeanY</th>\n",
       "      <th>tBodyAccmeanZ</th>\n",
       "      <th>tBodyAccstdX</th>\n",
       "      <th>tBodyAccstdY</th>\n",
       "      <th>tBodyAccstdZ</th>\n",
       "      <th>tBodyAccmadX</th>\n",
       "      <th>tBodyAccmadY</th>\n",
       "      <th>tBodyAccmadZ</th>\n",
       "      <th>tBodyAccmaxX</th>\n",
       "      <th>...</th>\n",
       "      <th>fBodyBodyGyroJerkMagmeanFreq</th>\n",
       "      <th>fBodyBodyGyroJerkMagskewness</th>\n",
       "      <th>fBodyBodyGyroJerkMagkurtosis</th>\n",
       "      <th>angletBodyAccMeangravity</th>\n",
       "      <th>angletBodyAccJerkMeangravityMean</th>\n",
       "      <th>angletBodyGyroMeangravityMean</th>\n",
       "      <th>angletBodyGyroJerkMeangravityMean</th>\n",
       "      <th>angleXgravityMean</th>\n",
       "      <th>angleYgravityMean</th>\n",
       "      <th>angleZgravityMean</th>\n",
       "    </tr>\n",
       "  </thead>\n",
       "  <tbody>\n",
       "    <tr>\n",
       "      <td>0</td>\n",
       "      <td>0.288585</td>\n",
       "      <td>-0.020294</td>\n",
       "      <td>-0.132905</td>\n",
       "      <td>-0.995279</td>\n",
       "      <td>-0.983111</td>\n",
       "      <td>-0.913526</td>\n",
       "      <td>-0.995112</td>\n",
       "      <td>-0.983185</td>\n",
       "      <td>-0.923527</td>\n",
       "      <td>-0.934724</td>\n",
       "      <td>...</td>\n",
       "      <td>-0.074323</td>\n",
       "      <td>-0.298676</td>\n",
       "      <td>-0.710304</td>\n",
       "      <td>-0.112754</td>\n",
       "      <td>0.030400</td>\n",
       "      <td>-0.464761</td>\n",
       "      <td>-0.018446</td>\n",
       "      <td>-0.841247</td>\n",
       "      <td>0.179941</td>\n",
       "      <td>-0.058627</td>\n",
       "    </tr>\n",
       "    <tr>\n",
       "      <td>1</td>\n",
       "      <td>0.278419</td>\n",
       "      <td>-0.016411</td>\n",
       "      <td>-0.123520</td>\n",
       "      <td>-0.998245</td>\n",
       "      <td>-0.975300</td>\n",
       "      <td>-0.960322</td>\n",
       "      <td>-0.998807</td>\n",
       "      <td>-0.974914</td>\n",
       "      <td>-0.957686</td>\n",
       "      <td>-0.943068</td>\n",
       "      <td>...</td>\n",
       "      <td>0.158075</td>\n",
       "      <td>-0.595051</td>\n",
       "      <td>-0.861499</td>\n",
       "      <td>0.053477</td>\n",
       "      <td>-0.007435</td>\n",
       "      <td>-0.732626</td>\n",
       "      <td>0.703511</td>\n",
       "      <td>-0.844788</td>\n",
       "      <td>0.180289</td>\n",
       "      <td>-0.054317</td>\n",
       "    </tr>\n",
       "    <tr>\n",
       "      <td>2</td>\n",
       "      <td>0.279653</td>\n",
       "      <td>-0.019467</td>\n",
       "      <td>-0.113462</td>\n",
       "      <td>-0.995380</td>\n",
       "      <td>-0.967187</td>\n",
       "      <td>-0.978944</td>\n",
       "      <td>-0.996520</td>\n",
       "      <td>-0.963668</td>\n",
       "      <td>-0.977469</td>\n",
       "      <td>-0.938692</td>\n",
       "      <td>...</td>\n",
       "      <td>0.414503</td>\n",
       "      <td>-0.390748</td>\n",
       "      <td>-0.760104</td>\n",
       "      <td>-0.118559</td>\n",
       "      <td>0.177899</td>\n",
       "      <td>0.100699</td>\n",
       "      <td>0.808529</td>\n",
       "      <td>-0.848933</td>\n",
       "      <td>0.180637</td>\n",
       "      <td>-0.049118</td>\n",
       "    </tr>\n",
       "    <tr>\n",
       "      <td>3</td>\n",
       "      <td>0.279174</td>\n",
       "      <td>-0.026201</td>\n",
       "      <td>-0.123283</td>\n",
       "      <td>-0.996091</td>\n",
       "      <td>-0.983403</td>\n",
       "      <td>-0.990675</td>\n",
       "      <td>-0.997099</td>\n",
       "      <td>-0.982750</td>\n",
       "      <td>-0.989302</td>\n",
       "      <td>-0.938692</td>\n",
       "      <td>...</td>\n",
       "      <td>0.404573</td>\n",
       "      <td>-0.117290</td>\n",
       "      <td>-0.482845</td>\n",
       "      <td>-0.036788</td>\n",
       "      <td>-0.012892</td>\n",
       "      <td>0.640011</td>\n",
       "      <td>-0.485366</td>\n",
       "      <td>-0.848649</td>\n",
       "      <td>0.181935</td>\n",
       "      <td>-0.047663</td>\n",
       "    </tr>\n",
       "    <tr>\n",
       "      <td>4</td>\n",
       "      <td>0.276629</td>\n",
       "      <td>-0.016570</td>\n",
       "      <td>-0.115362</td>\n",
       "      <td>-0.998139</td>\n",
       "      <td>-0.980817</td>\n",
       "      <td>-0.990482</td>\n",
       "      <td>-0.998321</td>\n",
       "      <td>-0.979672</td>\n",
       "      <td>-0.990441</td>\n",
       "      <td>-0.942469</td>\n",
       "      <td>...</td>\n",
       "      <td>0.087753</td>\n",
       "      <td>-0.351471</td>\n",
       "      <td>-0.699205</td>\n",
       "      <td>0.123320</td>\n",
       "      <td>0.122542</td>\n",
       "      <td>0.693578</td>\n",
       "      <td>-0.615971</td>\n",
       "      <td>-0.847865</td>\n",
       "      <td>0.185151</td>\n",
       "      <td>-0.043892</td>\n",
       "    </tr>\n",
       "  </tbody>\n",
       "</table>\n",
       "<p>5 rows × 561 columns</p>\n",
       "</div>"
      ],
      "text/plain": [
       "   tBodyAccmeanX  tBodyAccmeanY  tBodyAccmeanZ  tBodyAccstdX  tBodyAccstdY  \\\n",
       "0       0.288585      -0.020294      -0.132905     -0.995279     -0.983111   \n",
       "1       0.278419      -0.016411      -0.123520     -0.998245     -0.975300   \n",
       "2       0.279653      -0.019467      -0.113462     -0.995380     -0.967187   \n",
       "3       0.279174      -0.026201      -0.123283     -0.996091     -0.983403   \n",
       "4       0.276629      -0.016570      -0.115362     -0.998139     -0.980817   \n",
       "\n",
       "   tBodyAccstdZ  tBodyAccmadX  tBodyAccmadY  tBodyAccmadZ  tBodyAccmaxX  ...  \\\n",
       "0     -0.913526     -0.995112     -0.983185     -0.923527     -0.934724  ...   \n",
       "1     -0.960322     -0.998807     -0.974914     -0.957686     -0.943068  ...   \n",
       "2     -0.978944     -0.996520     -0.963668     -0.977469     -0.938692  ...   \n",
       "3     -0.990675     -0.997099     -0.982750     -0.989302     -0.938692  ...   \n",
       "4     -0.990482     -0.998321     -0.979672     -0.990441     -0.942469  ...   \n",
       "\n",
       "   fBodyBodyGyroJerkMagmeanFreq  fBodyBodyGyroJerkMagskewness  \\\n",
       "0                     -0.074323                     -0.298676   \n",
       "1                      0.158075                     -0.595051   \n",
       "2                      0.414503                     -0.390748   \n",
       "3                      0.404573                     -0.117290   \n",
       "4                      0.087753                     -0.351471   \n",
       "\n",
       "   fBodyBodyGyroJerkMagkurtosis  angletBodyAccMeangravity  \\\n",
       "0                     -0.710304                 -0.112754   \n",
       "1                     -0.861499                  0.053477   \n",
       "2                     -0.760104                 -0.118559   \n",
       "3                     -0.482845                 -0.036788   \n",
       "4                     -0.699205                  0.123320   \n",
       "\n",
       "   angletBodyAccJerkMeangravityMean  angletBodyGyroMeangravityMean  \\\n",
       "0                          0.030400                      -0.464761   \n",
       "1                         -0.007435                      -0.732626   \n",
       "2                          0.177899                       0.100699   \n",
       "3                         -0.012892                       0.640011   \n",
       "4                          0.122542                       0.693578   \n",
       "\n",
       "   angletBodyGyroJerkMeangravityMean  angleXgravityMean  angleYgravityMean  \\\n",
       "0                          -0.018446          -0.841247           0.179941   \n",
       "1                           0.703511          -0.844788           0.180289   \n",
       "2                           0.808529          -0.848933           0.180637   \n",
       "3                          -0.485366          -0.848649           0.181935   \n",
       "4                          -0.615971          -0.847865           0.185151   \n",
       "\n",
       "   angleZgravityMean  \n",
       "0          -0.058627  \n",
       "1          -0.054317  \n",
       "2          -0.049118  \n",
       "3          -0.047663  \n",
       "4          -0.043892  \n",
       "\n",
       "[5 rows x 561 columns]"
      ]
     },
     "execution_count": 27,
     "metadata": {},
     "output_type": "execute_result"
    }
   ],
   "source": [
    "X_train.head()"
   ]
  },
  {
   "cell_type": "markdown",
   "metadata": {},
   "source": [
    "# Training Second Stage Classifiers"
   ]
  },
  {
   "cell_type": "markdown",
   "metadata": {},
   "source": [
    "## Preparing data "
   ]
  },
  {
   "cell_type": "markdown",
   "metadata": {},
   "source": [
    "### Preparing train data for staitic HAR Model"
   ]
  },
  {
   "cell_type": "code",
   "execution_count": 42,
   "metadata": {},
   "outputs": [],
   "source": [
    "activity_4_index = np.where(y_train == 4)[0]\n",
    "activity_5_index = np.where(y_train == 5)[0]\n",
    "activity_6_index = np.where(y_train == 6)[0]"
   ]
  },
  {
   "cell_type": "code",
   "execution_count": 44,
   "metadata": {},
   "outputs": [],
   "source": [
    "static_activity_index = np.concatenate([activity_4_index, activity_5_index, activity_6_index])"
   ]
  },
  {
   "cell_type": "code",
   "execution_count": 53,
   "metadata": {},
   "outputs": [],
   "source": [
    "# Shuffling static data index\n",
    "rand_var = random.random()\n",
    "random.shuffle(static_activity_index, lambda: rand_var)"
   ]
  },
  {
   "cell_type": "code",
   "execution_count": 54,
   "metadata": {},
   "outputs": [],
   "source": [
    "#getting X_train associated with static activites\n",
    "# static_activity_index = list(static_activity_index)\n",
    "X_train_static = X_train.loc[static_activity_index]\n",
    "y_train_static = y_train.loc[static_activity_index]"
   ]
  },
  {
   "cell_type": "code",
   "execution_count": 83,
   "metadata": {},
   "outputs": [],
   "source": [
    "#converting y_train from (4,5,6) to (0,1,2)\n",
    "y_train_static = y_train_static - 4"
   ]
  },
  {
   "cell_type": "markdown",
   "metadata": {},
   "source": [
    "### Preparing test data for staitic HAR Model"
   ]
  },
  {
   "cell_type": "code",
   "execution_count": 57,
   "metadata": {},
   "outputs": [],
   "source": [
    "activity_4_index = np.where(y_test == 4)[0]\n",
    "activity_5_index = np.where(y_test == 5)[0]\n",
    "activity_6_index = np.where(y_test == 6)[0]"
   ]
  },
  {
   "cell_type": "code",
   "execution_count": 58,
   "metadata": {},
   "outputs": [],
   "source": [
    "static_activity_index = np.concatenate([activity_4_index, activity_5_index, activity_6_index])"
   ]
  },
  {
   "cell_type": "code",
   "execution_count": 59,
   "metadata": {},
   "outputs": [],
   "source": [
    "# Shuffling static data index\n",
    "rand_var = random.random()\n",
    "random.shuffle(static_activity_index, lambda: rand_var)"
   ]
  },
  {
   "cell_type": "code",
   "execution_count": 60,
   "metadata": {},
   "outputs": [],
   "source": [
    "#getting X_train associated with static activites\n",
    "X_test_static = X_test.loc[static_activity_index]\n",
    "y_test_static = y_test.loc[static_activity_index]"
   ]
  },
  {
   "cell_type": "code",
   "execution_count": 84,
   "metadata": {},
   "outputs": [],
   "source": [
    "#converting y_test from (4,5,6) to (0,1,2)\n",
    "y_test_static = y_test_static - 4"
   ]
  },
  {
   "cell_type": "markdown",
   "metadata": {},
   "source": [
    "### Preparing train data for dynamic HAR Model"
   ]
  },
  {
   "cell_type": "code",
   "execution_count": 75,
   "metadata": {},
   "outputs": [],
   "source": [
    "activity_1_index = np.where(y_train == 1)[0]\n",
    "activity_2_index = np.where(y_train == 2)[0]\n",
    "activity_3_index = np.where(y_train == 3)[0]"
   ]
  },
  {
   "cell_type": "code",
   "execution_count": 76,
   "metadata": {},
   "outputs": [],
   "source": [
    "dynamic_activity_index = np.concatenate([activity_1_index, activity_2_index, activity_3_index])"
   ]
  },
  {
   "cell_type": "code",
   "execution_count": 77,
   "metadata": {},
   "outputs": [],
   "source": [
    "# Shuffling static data index\n",
    "rand_var = random.random()\n",
    "random.shuffle(dynamic_activity_index, lambda: rand_var)"
   ]
  },
  {
   "cell_type": "code",
   "execution_count": 78,
   "metadata": {},
   "outputs": [],
   "source": [
    "#getting X_train associated with static activites\n",
    "X_train_dynamic = X_train.loc[dynamic_activity_index]\n",
    "y_train_dynamic = y_train.loc[dynamic_activity_index]"
   ]
  },
  {
   "cell_type": "code",
   "execution_count": 85,
   "metadata": {},
   "outputs": [],
   "source": [
    "#converting y_train from (1,2,3) to (0,1,2)\n",
    "y_train_dynamic = y_train_dynamic - 1"
   ]
  },
  {
   "cell_type": "markdown",
   "metadata": {},
   "source": [
    "### Preparing test data for dynamic HAR Model"
   ]
  },
  {
   "cell_type": "code",
   "execution_count": 67,
   "metadata": {},
   "outputs": [],
   "source": [
    "activity_1_index = np.where(y_test == 1)[0]\n",
    "activity_2_index = np.where(y_test == 2)[0]\n",
    "activity_3_index = np.where(y_test == 3)[0]"
   ]
  },
  {
   "cell_type": "code",
   "execution_count": 68,
   "metadata": {},
   "outputs": [],
   "source": [
    "dynamic_activity_index = np.concatenate([activity_1_index, activity_2_index, activity_3_index])"
   ]
  },
  {
   "cell_type": "code",
   "execution_count": 69,
   "metadata": {},
   "outputs": [],
   "source": [
    "# Shuffling static data index\n",
    "rand_var = random.random()\n",
    "random.shuffle(dynamic_activity_index, lambda: rand_var)"
   ]
  },
  {
   "cell_type": "code",
   "execution_count": 74,
   "metadata": {},
   "outputs": [],
   "source": [
    "#getting X_train associated with static activites\n",
    "X_test_dynamic = X_test.loc[dynamic_activity_index]\n",
    "y_test_dynamic = y_test.loc[dynamic_activity_index]"
   ]
  },
  {
   "cell_type": "code",
   "execution_count": 86,
   "metadata": {},
   "outputs": [],
   "source": [
    "#converting y_test from (1,2,3) to (0,1,2)\n",
    "y_test_dynamic = y_test_dynamic - 1"
   ]
  },
  {
   "cell_type": "code",
   "execution_count": 81,
   "metadata": {},
   "outputs": [
    {
     "name": "stdout",
     "output_type": "stream",
     "text": [
      "Shape of data for dynamic HAR: X_train --> (3285, 561), y_train --> (3285,), X_test --> (1387, 561), y_test --> (1387,)\n"
     ]
    }
   ],
   "source": [
    "print(f'Shape of data for dynamic HAR: X_train --> {X_train_dynamic.shape}, y_train --> {y_train_dynamic.shape}, X_test --> {X_test_dynamic.shape}, y_test --> {y_test_dynamic.shape}')"
   ]
  },
  {
   "cell_type": "code",
   "execution_count": 82,
   "metadata": {},
   "outputs": [
    {
     "name": "stdout",
     "output_type": "stream",
     "text": [
      "Shape of data for static HAR: X_train --> (4067, 561), y_train --> (4067,), X_test --> (1560, 561), y_test --> (1560,)\n"
     ]
    }
   ],
   "source": [
    "print(f'Shape of data for static HAR: X_train --> {X_train_static.shape}, y_train --> {y_train_static.shape}, X_test --> {X_test_static.shape}, y_test --> {y_test_static.shape}')"
   ]
  },
  {
   "cell_type": "markdown",
   "metadata": {},
   "source": [
    "# Training Model for static HAR data"
   ]
  },
  {
   "cell_type": "code",
   "execution_count": 155,
   "metadata": {},
   "outputs": [],
   "source": [
    "no_class = 3\n",
    "y_train_static_ohe = to_categorical(y_train_static, no_class)\n",
    "y_test_static_ohe = to_categorical(y_test_static, no_class)"
   ]
  },
  {
   "cell_type": "code",
   "execution_count": 156,
   "metadata": {},
   "outputs": [],
   "source": [
    "model = Sequential()\n",
    "model.add(Conv1D(30, 3, input_shape=(X_train_static.shape[1], 1), activation='relu'))\n",
    "model.add(Conv1D(50, 3, activation='relu'))\n",
    "model.add(Conv1D(100, 3, activation='relu'))\n",
    "model.add(Flatten())\n",
    "model.add(Dense(3, activation='softmax'))\n",
    "model.add(Dropout(0.50))\n",
    "\n",
    "adam = Adam(lr=0.0001)\n",
    "model.compile(loss='mean_squared_error', optimizer=adam, metrics=['accuracy'])"
   ]
  },
  {
   "cell_type": "code",
   "execution_count": 157,
   "metadata": {},
   "outputs": [
    {
     "name": "stdout",
     "output_type": "stream",
     "text": [
      "Model: \"sequential_8\"\n",
      "_________________________________________________________________\n",
      "Layer (type)                 Output Shape              Param #   \n",
      "=================================================================\n",
      "conv1d_15 (Conv1D)           (None, 559, 30)           120       \n",
      "_________________________________________________________________\n",
      "conv1d_16 (Conv1D)           (None, 557, 50)           4550      \n",
      "_________________________________________________________________\n",
      "conv1d_17 (Conv1D)           (None, 555, 100)          15100     \n",
      "_________________________________________________________________\n",
      "flatten_5 (Flatten)          (None, 55500)             0         \n",
      "_________________________________________________________________\n",
      "dense_5 (Dense)              (None, 3)                 166503    \n",
      "_________________________________________________________________\n",
      "dropout_5 (Dropout)          (None, 3)                 0         \n",
      "=================================================================\n",
      "Total params: 186,273\n",
      "Trainable params: 186,273\n",
      "Non-trainable params: 0\n",
      "_________________________________________________________________\n"
     ]
    }
   ],
   "source": [
    "model.summary()"
   ]
  },
  {
   "cell_type": "code",
   "execution_count": 158,
   "metadata": {},
   "outputs": [
    {
     "name": "stdout",
     "output_type": "stream",
     "text": [
      "Train on 3253 samples, validate on 814 samples\n",
      "Epoch 1/100\n",
      " - 12s - loss: 0.3119 - acc: 0.4402 - val_loss: 0.1304 - val_acc: 0.9521\n",
      "Epoch 2/100\n",
      " - 11s - loss: 0.2589 - acc: 0.5192 - val_loss: 0.1008 - val_acc: 0.9201\n",
      "Epoch 3/100\n",
      " - 11s - loss: 0.2491 - acc: 0.5278 - val_loss: 0.0914 - val_acc: 0.9423\n",
      "Epoch 4/100\n",
      " - 11s - loss: 0.2397 - acc: 0.5472 - val_loss: 0.0736 - val_acc: 0.9595\n",
      "Epoch 5/100\n",
      " - 10s - loss: 0.2434 - acc: 0.5232 - val_loss: 0.0685 - val_acc: 0.9619\n",
      "Epoch 6/100\n",
      " - 10s - loss: 0.2340 - acc: 0.5487 - val_loss: 0.0715 - val_acc: 0.9533\n",
      "Epoch 7/100\n",
      " - 11s - loss: 0.2356 - acc: 0.5417 - val_loss: 0.0790 - val_acc: 0.9582\n",
      "Epoch 8/100\n",
      " - 11s - loss: 0.2339 - acc: 0.5457 - val_loss: 0.0675 - val_acc: 0.9693\n",
      "Epoch 9/100\n",
      " - 11s - loss: 0.2365 - acc: 0.5413 - val_loss: 0.0729 - val_acc: 0.9619\n",
      "Epoch 10/100\n",
      " - 11s - loss: 0.2332 - acc: 0.5481 - val_loss: 0.0704 - val_acc: 0.9545\n",
      "Epoch 11/100\n",
      " - 11s - loss: 0.2350 - acc: 0.5453 - val_loss: 0.0711 - val_acc: 0.9595\n",
      "Epoch 12/100\n",
      " - 10s - loss: 0.2384 - acc: 0.5275 - val_loss: 0.0628 - val_acc: 0.9681\n",
      "Epoch 13/100\n",
      " - 11s - loss: 0.2314 - acc: 0.5552 - val_loss: 0.0683 - val_acc: 0.9595\n",
      "Epoch 14/100\n",
      " - 10s - loss: 0.2320 - acc: 0.5460 - val_loss: 0.0799 - val_acc: 0.9582\n",
      "Epoch 15/100\n",
      " - 11s - loss: 0.2316 - acc: 0.5453 - val_loss: 0.0726 - val_acc: 0.9582\n",
      "Epoch 16/100\n",
      " - 11s - loss: 0.2346 - acc: 0.5343 - val_loss: 0.0697 - val_acc: 0.9644\n",
      "Epoch 17/100\n",
      " - 11s - loss: 0.2309 - acc: 0.5410 - val_loss: 0.0722 - val_acc: 0.9644\n",
      "Epoch 18/100\n",
      " - 11s - loss: 0.2371 - acc: 0.5315 - val_loss: 0.0687 - val_acc: 0.9582\n",
      "Epoch 19/100\n",
      " - 11s - loss: 0.2295 - acc: 0.5447 - val_loss: 0.0707 - val_acc: 0.9595\n",
      "Epoch 20/100\n",
      " - 11s - loss: 0.2296 - acc: 0.5549 - val_loss: 0.0694 - val_acc: 0.9619\n",
      "Epoch 21/100\n",
      " - 11s - loss: 0.2328 - acc: 0.5370 - val_loss: 0.0757 - val_acc: 0.9570\n",
      "Epoch 22/100\n",
      " - 10s - loss: 0.2287 - acc: 0.5506 - val_loss: 0.0726 - val_acc: 0.9631\n",
      "Epoch 23/100\n",
      " - 10s - loss: 0.2305 - acc: 0.5460 - val_loss: 0.0740 - val_acc: 0.9595\n",
      "Epoch 24/100\n",
      " - 11s - loss: 0.2296 - acc: 0.5512 - val_loss: 0.0756 - val_acc: 0.9607\n",
      "Epoch 25/100\n",
      " - 11s - loss: 0.2268 - acc: 0.5552 - val_loss: 0.0733 - val_acc: 0.9558\n",
      "Epoch 26/100\n",
      " - 10s - loss: 0.2286 - acc: 0.5650 - val_loss: 0.0681 - val_acc: 0.9693\n",
      "Epoch 27/100\n",
      " - 11s - loss: 0.2313 - acc: 0.5472 - val_loss: 0.0749 - val_acc: 0.9681\n",
      "Epoch 28/100\n",
      " - 11s - loss: 0.2322 - acc: 0.5432 - val_loss: 0.0632 - val_acc: 0.9730\n",
      "Epoch 29/100\n",
      " - 11s - loss: 0.2307 - acc: 0.5389 - val_loss: 0.0652 - val_acc: 0.9656\n",
      "Epoch 30/100\n",
      " - 11s - loss: 0.2341 - acc: 0.5361 - val_loss: 0.0601 - val_acc: 0.9693\n",
      "Epoch 31/100\n",
      " - 11s - loss: 0.2276 - acc: 0.5506 - val_loss: 0.0743 - val_acc: 0.9582\n",
      "Epoch 32/100\n",
      " - 10s - loss: 0.2307 - acc: 0.5389 - val_loss: 0.0712 - val_acc: 0.9681\n",
      "Epoch 33/100\n",
      " - 10s - loss: 0.2320 - acc: 0.5343 - val_loss: 0.0757 - val_acc: 0.9582\n",
      "Epoch 34/100\n",
      " - 10s - loss: 0.2292 - acc: 0.5481 - val_loss: 0.0789 - val_acc: 0.9595\n",
      "Epoch 35/100\n",
      " - 11s - loss: 0.2327 - acc: 0.5367 - val_loss: 0.0651 - val_acc: 0.9607\n",
      "Epoch 36/100\n",
      " - 11s - loss: 0.2334 - acc: 0.5374 - val_loss: 0.0767 - val_acc: 0.9484\n",
      "Epoch 37/100\n",
      " - 11s - loss: 0.2263 - acc: 0.5601 - val_loss: 0.0779 - val_acc: 0.9558\n",
      "Epoch 38/100\n",
      " - 11s - loss: 0.2352 - acc: 0.5300 - val_loss: 0.0740 - val_acc: 0.9484\n",
      "Epoch 39/100\n",
      " - 11s - loss: 0.2293 - acc: 0.5432 - val_loss: 0.0750 - val_acc: 0.9484\n",
      "Epoch 40/100\n",
      " - 11s - loss: 0.2299 - acc: 0.5420 - val_loss: 0.0649 - val_acc: 0.9717\n",
      "Epoch 41/100\n",
      " - 11s - loss: 0.2295 - acc: 0.5512 - val_loss: 0.0702 - val_acc: 0.9496\n",
      "Epoch 42/100\n",
      " - 11s - loss: 0.2288 - acc: 0.5472 - val_loss: 0.0721 - val_acc: 0.9619\n",
      "Epoch 43/100\n",
      " - 11s - loss: 0.2296 - acc: 0.5475 - val_loss: 0.0750 - val_acc: 0.9533\n",
      "Epoch 44/100\n",
      " - 11s - loss: 0.2289 - acc: 0.5496 - val_loss: 0.0743 - val_acc: 0.9558\n",
      "Epoch 45/100\n",
      " - 10s - loss: 0.2268 - acc: 0.5552 - val_loss: 0.0771 - val_acc: 0.9533\n",
      "Epoch 46/100\n",
      " - 11s - loss: 0.2288 - acc: 0.5490 - val_loss: 0.0781 - val_acc: 0.9595\n",
      "Epoch 47/100\n",
      " - 11s - loss: 0.2302 - acc: 0.5450 - val_loss: 0.0698 - val_acc: 0.9717\n",
      "Epoch 48/100\n",
      " - 11s - loss: 0.2322 - acc: 0.5377 - val_loss: 0.0728 - val_acc: 0.9533\n",
      "Epoch 49/100\n",
      " - 11s - loss: 0.2305 - acc: 0.5410 - val_loss: 0.0705 - val_acc: 0.9644\n",
      "Epoch 50/100\n",
      " - 11s - loss: 0.2267 - acc: 0.5552 - val_loss: 0.0803 - val_acc: 0.9521\n",
      "Epoch 51/100\n",
      " - 11s - loss: 0.2288 - acc: 0.5447 - val_loss: 0.0700 - val_acc: 0.9693\n",
      "Epoch 52/100\n",
      " - 11s - loss: 0.2277 - acc: 0.5500 - val_loss: 0.0679 - val_acc: 0.9656\n",
      "Epoch 53/100\n",
      " - 11s - loss: 0.2293 - acc: 0.5515 - val_loss: 0.0673 - val_acc: 0.9595\n",
      "Epoch 54/100\n",
      " - 11s - loss: 0.2299 - acc: 0.5398 - val_loss: 0.0682 - val_acc: 0.9717\n",
      "Epoch 55/100\n",
      " - 10s - loss: 0.2310 - acc: 0.5309 - val_loss: 0.0713 - val_acc: 0.9681\n",
      "Epoch 56/100\n",
      " - 11s - loss: 0.2262 - acc: 0.5524 - val_loss: 0.0723 - val_acc: 0.9668\n",
      "Epoch 57/100\n",
      " - 11s - loss: 0.2281 - acc: 0.5512 - val_loss: 0.0763 - val_acc: 0.9607\n",
      "Epoch 58/100\n",
      " - 11s - loss: 0.2295 - acc: 0.5453 - val_loss: 0.0680 - val_acc: 0.9656\n",
      "Epoch 59/100\n",
      " - 11s - loss: 0.2330 - acc: 0.5291 - val_loss: 0.0679 - val_acc: 0.9693\n",
      "Epoch 60/100\n",
      " - 10s - loss: 0.2302 - acc: 0.5380 - val_loss: 0.0645 - val_acc: 0.9693\n",
      "Epoch 61/100\n",
      " - 10s - loss: 0.2281 - acc: 0.5496 - val_loss: 0.0732 - val_acc: 0.9644\n",
      "Epoch 62/100\n",
      " - 11s - loss: 0.2301 - acc: 0.5426 - val_loss: 0.0716 - val_acc: 0.9705\n",
      "Epoch 63/100\n",
      " - 10s - loss: 0.2263 - acc: 0.5521 - val_loss: 0.0692 - val_acc: 0.9681\n",
      "Epoch 64/100\n",
      " - 11s - loss: 0.2274 - acc: 0.5466 - val_loss: 0.0697 - val_acc: 0.9681\n",
      "Epoch 65/100\n",
      " - 11s - loss: 0.2335 - acc: 0.5324 - val_loss: 0.0719 - val_acc: 0.9717\n",
      "Epoch 66/100\n",
      " - 11s - loss: 0.2253 - acc: 0.5576 - val_loss: 0.0676 - val_acc: 0.9619\n",
      "Epoch 67/100\n",
      " - 11s - loss: 0.2253 - acc: 0.5607 - val_loss: 0.0716 - val_acc: 0.9595\n",
      "Epoch 68/100\n",
      " - 10s - loss: 0.2324 - acc: 0.5352 - val_loss: 0.0707 - val_acc: 0.9521\n",
      "Epoch 69/100\n",
      " - 10s - loss: 0.2237 - acc: 0.5607 - val_loss: 0.0777 - val_acc: 0.9582\n",
      "Epoch 70/100\n",
      " - 11s - loss: 0.2258 - acc: 0.5623 - val_loss: 0.0651 - val_acc: 0.9717\n",
      "Epoch 71/100\n",
      " - 10s - loss: 0.2256 - acc: 0.5635 - val_loss: 0.0721 - val_acc: 0.9668\n",
      "Epoch 72/100\n",
      " - 10s - loss: 0.2256 - acc: 0.5518 - val_loss: 0.0754 - val_acc: 0.9619\n",
      "Epoch 73/100\n",
      " - 10s - loss: 0.2287 - acc: 0.5413 - val_loss: 0.0680 - val_acc: 0.9656\n",
      "Epoch 74/100\n",
      " - 11s - loss: 0.2323 - acc: 0.5420 - val_loss: 0.0749 - val_acc: 0.9619\n",
      "Epoch 75/100\n",
      " - 11s - loss: 0.2284 - acc: 0.5524 - val_loss: 0.0795 - val_acc: 0.9570\n",
      "Epoch 76/100\n",
      " - 11s - loss: 0.2290 - acc: 0.5469 - val_loss: 0.0731 - val_acc: 0.9521\n",
      "Epoch 77/100\n",
      " - 11s - loss: 0.2334 - acc: 0.5395 - val_loss: 0.0748 - val_acc: 0.9410\n",
      "Epoch 78/100\n",
      " - 11s - loss: 0.2327 - acc: 0.5303 - val_loss: 0.0687 - val_acc: 0.9693\n",
      "Epoch 79/100\n",
      " - 11s - loss: 0.2289 - acc: 0.5435 - val_loss: 0.0749 - val_acc: 0.9570\n",
      "Epoch 80/100\n",
      " - 11s - loss: 0.2250 - acc: 0.5576 - val_loss: 0.0798 - val_acc: 0.9509\n",
      "Epoch 81/100\n",
      " - 11s - loss: 0.2289 - acc: 0.5487 - val_loss: 0.0768 - val_acc: 0.9693\n",
      "Epoch 82/100\n",
      " - 11s - loss: 0.2238 - acc: 0.5641 - val_loss: 0.0778 - val_acc: 0.9595\n",
      "Epoch 83/100\n",
      " - 10s - loss: 0.2352 - acc: 0.5272 - val_loss: 0.0687 - val_acc: 0.9595\n",
      "Epoch 84/100\n",
      " - 11s - loss: 0.2270 - acc: 0.5444 - val_loss: 0.0723 - val_acc: 0.9656\n",
      "Epoch 85/100\n",
      " - 11s - loss: 0.2302 - acc: 0.5472 - val_loss: 0.0762 - val_acc: 0.9607\n",
      "Epoch 86/100\n",
      " - 11s - loss: 0.2296 - acc: 0.5524 - val_loss: 0.0742 - val_acc: 0.9595\n",
      "Epoch 87/100\n",
      " - 11s - loss: 0.2287 - acc: 0.5484 - val_loss: 0.0814 - val_acc: 0.9595\n",
      "Epoch 88/100\n",
      " - 11s - loss: 0.2289 - acc: 0.5453 - val_loss: 0.0770 - val_acc: 0.9533\n",
      "Epoch 89/100\n",
      " - 10s - loss: 0.2278 - acc: 0.5500 - val_loss: 0.0706 - val_acc: 0.9582\n",
      "Epoch 90/100\n",
      " - 10s - loss: 0.2257 - acc: 0.5493 - val_loss: 0.0801 - val_acc: 0.9509\n",
      "Epoch 91/100\n",
      " - 10s - loss: 0.2266 - acc: 0.5463 - val_loss: 0.0758 - val_acc: 0.9595\n",
      "Epoch 92/100\n",
      " - 11s - loss: 0.2256 - acc: 0.5530 - val_loss: 0.0817 - val_acc: 0.9570\n",
      "Epoch 93/100\n",
      " - 10s - loss: 0.2288 - acc: 0.5417 - val_loss: 0.0764 - val_acc: 0.9595\n",
      "Epoch 94/100\n",
      " - 11s - loss: 0.2252 - acc: 0.5555 - val_loss: 0.0757 - val_acc: 0.9558\n",
      "Epoch 95/100\n",
      " - 11s - loss: 0.2241 - acc: 0.5589 - val_loss: 0.0733 - val_acc: 0.9558\n"
     ]
    },
    {
     "name": "stdout",
     "output_type": "stream",
     "text": [
      "Epoch 96/100\n",
      " - 10s - loss: 0.2254 - acc: 0.5478 - val_loss: 0.0707 - val_acc: 0.9558\n",
      "Epoch 97/100\n",
      " - 10s - loss: 0.2254 - acc: 0.5546 - val_loss: 0.0748 - val_acc: 0.9570\n",
      "Epoch 98/100\n",
      " - 11s - loss: 0.2297 - acc: 0.5417 - val_loss: 0.0709 - val_acc: 0.9570\n",
      "Epoch 99/100\n",
      " - 10s - loss: 0.2219 - acc: 0.5712 - val_loss: 0.0736 - val_acc: 0.9619\n",
      "Epoch 100/100\n",
      " - 10s - loss: 0.2250 - acc: 0.5546 - val_loss: 0.0767 - val_acc: 0.9570\n"
     ]
    },
    {
     "data": {
      "text/plain": [
       "<keras.callbacks.History at 0x2034ab64160>"
      ]
     },
     "execution_count": 158,
     "metadata": {},
     "output_type": "execute_result"
    }
   ],
   "source": [
    "model.fit(np.expand_dims(X_train_static, axis=2), y_train_static_ohe,\n",
    "          batch_size=32, epochs=100, verbose=2, validation_split=0.2)"
   ]
  },
  {
   "cell_type": "code",
   "execution_count": 159,
   "metadata": {},
   "outputs": [
    {
     "name": "stdout",
     "output_type": "stream",
     "text": [
      "1560/1560 [==============================] - 2s 1ms/step\n"
     ]
    }
   ],
   "source": [
    "score = model.evaluate(np.expand_dims(X_test_static, axis=2), y_test_static_ohe)"
   ]
  },
  {
   "cell_type": "code",
   "execution_count": 160,
   "metadata": {},
   "outputs": [
    {
     "data": {
      "text/plain": [
       "[0.07686070127364916, 0.958974358974359]"
      ]
     },
     "execution_count": 160,
     "metadata": {},
     "output_type": "execute_result"
    }
   ],
   "source": [
    "score"
   ]
  },
  {
   "cell_type": "code",
   "execution_count": 161,
   "metadata": {},
   "outputs": [],
   "source": [
    "#saving static model\n",
    "model.save(\"trained_models/static_hra_model.h5\")"
   ]
  },
  {
   "cell_type": "markdown",
   "metadata": {},
   "source": [
    "# Training Model for Dynamic HAR data"
   ]
  },
  {
   "cell_type": "code",
   "execution_count": 162,
   "metadata": {},
   "outputs": [],
   "source": [
    "no_class = 3\n",
    "y_train_dynamic_ohe = to_categorical(y_train_dynamic, no_class)\n",
    "y_test_dynamic_ohe = to_categorical(y_test_dynamic, no_class)"
   ]
  },
  {
   "cell_type": "code",
   "execution_count": 163,
   "metadata": {},
   "outputs": [],
   "source": [
    "model = Sequential()\n",
    "model.add(Conv1D(100, 3, input_shape=(X_train_dynamic.shape[1], 1), activation='relu'))\n",
    "model.add(MaxPooling1D(3))\n",
    "model.add(Flatten())\n",
    "model.add(Dense(3, activation='softmax'))\n",
    "model.add(Dropout(0.5))\n",
    "\n",
    "adam = Adam(lr=0.0004)\n",
    "model.compile(loss='mean_squared_error', optimizer=adam, metrics=['accuracy'])"
   ]
  },
  {
   "cell_type": "code",
   "execution_count": 164,
   "metadata": {},
   "outputs": [
    {
     "name": "stdout",
     "output_type": "stream",
     "text": [
      "Model: \"sequential_9\"\n",
      "_________________________________________________________________\n",
      "Layer (type)                 Output Shape              Param #   \n",
      "=================================================================\n",
      "conv1d_18 (Conv1D)           (None, 559, 100)          400       \n",
      "_________________________________________________________________\n",
      "max_pooling1d_2 (MaxPooling1 (None, 186, 100)          0         \n",
      "_________________________________________________________________\n",
      "flatten_6 (Flatten)          (None, 18600)             0         \n",
      "_________________________________________________________________\n",
      "dense_6 (Dense)              (None, 3)                 55803     \n",
      "_________________________________________________________________\n",
      "dropout_6 (Dropout)          (None, 3)                 0         \n",
      "=================================================================\n",
      "Total params: 56,203\n",
      "Trainable params: 56,203\n",
      "Non-trainable params: 0\n",
      "_________________________________________________________________\n"
     ]
    }
   ],
   "source": [
    "model.summary()"
   ]
  },
  {
   "cell_type": "code",
   "execution_count": 165,
   "metadata": {},
   "outputs": [
    {
     "name": "stdout",
     "output_type": "stream",
     "text": [
      "Train on 2628 samples, validate on 657 samples\n",
      "Epoch 1/50\n",
      " - 3s - loss: 0.2695 - acc: 0.5156 - val_loss: 0.1578 - val_acc: 0.7610\n",
      "Epoch 2/50\n",
      " - 3s - loss: 0.2515 - acc: 0.5342 - val_loss: 0.0997 - val_acc: 0.9559\n",
      "Epoch 3/50\n",
      " - 3s - loss: 0.2376 - acc: 0.5537 - val_loss: 0.1129 - val_acc: 0.9269\n",
      "Epoch 4/50\n",
      " - 3s - loss: 0.2386 - acc: 0.5495 - val_loss: 0.0843 - val_acc: 0.9574\n",
      "Epoch 5/50\n",
      " - 3s - loss: 0.2366 - acc: 0.5544 - val_loss: 0.0922 - val_acc: 0.9665\n",
      "Epoch 6/50\n",
      " - 3s - loss: 0.2364 - acc: 0.5460 - val_loss: 0.0879 - val_acc: 0.9787\n",
      "Epoch 7/50\n",
      " - 3s - loss: 0.2295 - acc: 0.5681 - val_loss: 0.0749 - val_acc: 0.9924\n",
      "Epoch 8/50\n",
      " - 3s - loss: 0.2321 - acc: 0.5563 - val_loss: 0.0793 - val_acc: 0.9878\n",
      "Epoch 9/50\n",
      " - 3s - loss: 0.2288 - acc: 0.5677 - val_loss: 0.0800 - val_acc: 0.9802\n",
      "Epoch 10/50\n",
      " - 3s - loss: 0.2306 - acc: 0.5559 - val_loss: 0.1056 - val_acc: 0.9072\n",
      "Epoch 11/50\n",
      " - 3s - loss: 0.2289 - acc: 0.5681 - val_loss: 0.0805 - val_acc: 0.9848\n",
      "Epoch 12/50\n",
      " - 3s - loss: 0.2280 - acc: 0.5594 - val_loss: 0.0905 - val_acc: 0.9680\n",
      "Epoch 13/50\n",
      " - 3s - loss: 0.2295 - acc: 0.5556 - val_loss: 0.0921 - val_acc: 0.9696\n",
      "Epoch 14/50\n",
      " - 3s - loss: 0.2280 - acc: 0.5620 - val_loss: 0.0717 - val_acc: 0.9924\n",
      "Epoch 15/50\n",
      " - 3s - loss: 0.2323 - acc: 0.5495 - val_loss: 0.0844 - val_acc: 0.9833\n",
      "Epoch 16/50\n",
      " - 3s - loss: 0.2335 - acc: 0.5335 - val_loss: 0.0697 - val_acc: 0.9954\n",
      "Epoch 17/50\n",
      " - 3s - loss: 0.2309 - acc: 0.5540 - val_loss: 0.0762 - val_acc: 0.9833\n",
      "Epoch 18/50\n",
      " - 3s - loss: 0.2251 - acc: 0.5654 - val_loss: 0.0768 - val_acc: 0.9863\n",
      "Epoch 19/50\n",
      " - 3s - loss: 0.2301 - acc: 0.5544 - val_loss: 0.0776 - val_acc: 0.9848\n",
      "Epoch 20/50\n",
      " - 3s - loss: 0.2273 - acc: 0.5635 - val_loss: 0.0700 - val_acc: 0.9954\n",
      "Epoch 21/50\n",
      " - 3s - loss: 0.2279 - acc: 0.5651 - val_loss: 0.0830 - val_acc: 0.9711\n",
      "Epoch 22/50\n",
      " - 3s - loss: 0.2331 - acc: 0.5464 - val_loss: 0.1091 - val_acc: 0.8767\n",
      "Epoch 23/50\n",
      " - 3s - loss: 0.2277 - acc: 0.5590 - val_loss: 0.0673 - val_acc: 0.9924\n",
      "Epoch 24/50\n",
      " - 3s - loss: 0.2310 - acc: 0.5495 - val_loss: 0.0805 - val_acc: 0.9848\n",
      "Epoch 25/50\n",
      " - 3s - loss: 0.2247 - acc: 0.5670 - val_loss: 0.0845 - val_acc: 0.9650\n",
      "Epoch 26/50\n",
      " - 3s - loss: 0.2305 - acc: 0.5567 - val_loss: 0.0773 - val_acc: 0.9848\n",
      "Epoch 27/50\n",
      " - 3s - loss: 0.2278 - acc: 0.5616 - val_loss: 0.0822 - val_acc: 0.9802\n",
      "Epoch 28/50\n",
      " - 3s - loss: 0.2261 - acc: 0.5674 - val_loss: 0.1039 - val_acc: 0.9422\n",
      "Epoch 29/50\n",
      " - 3s - loss: 0.2212 - acc: 0.5689 - val_loss: 0.0859 - val_acc: 0.9772\n",
      "Epoch 30/50\n",
      " - 3s - loss: 0.2325 - acc: 0.5453 - val_loss: 0.0836 - val_acc: 0.9787\n",
      "Epoch 31/50\n",
      " - 3s - loss: 0.2280 - acc: 0.5548 - val_loss: 0.0901 - val_acc: 0.9680\n",
      "Epoch 32/50\n",
      " - 3s - loss: 0.2280 - acc: 0.5670 - val_loss: 0.0818 - val_acc: 0.9833\n",
      "Epoch 33/50\n",
      " - 3s - loss: 0.2302 - acc: 0.5476 - val_loss: 0.0770 - val_acc: 0.9848\n",
      "Epoch 34/50\n",
      " - 3s - loss: 0.2300 - acc: 0.5540 - val_loss: 0.0852 - val_acc: 0.9756\n",
      "Epoch 35/50\n",
      " - 3s - loss: 0.2307 - acc: 0.5552 - val_loss: 0.0844 - val_acc: 0.9787\n",
      "Epoch 36/50\n",
      " - 3s - loss: 0.2357 - acc: 0.5369 - val_loss: 0.0968 - val_acc: 0.9482\n",
      "Epoch 37/50\n",
      " - 3s - loss: 0.2310 - acc: 0.5521 - val_loss: 0.0985 - val_acc: 0.9452\n",
      "Epoch 38/50\n",
      " - 3s - loss: 0.2231 - acc: 0.5727 - val_loss: 0.0770 - val_acc: 0.9848\n",
      "Epoch 39/50\n",
      " - 3s - loss: 0.2236 - acc: 0.5677 - val_loss: 0.0841 - val_acc: 0.9787\n",
      "Epoch 40/50\n",
      " - 3s - loss: 0.2277 - acc: 0.5552 - val_loss: 0.0965 - val_acc: 0.9543\n",
      "Epoch 41/50\n",
      " - 3s - loss: 0.2275 - acc: 0.5609 - val_loss: 0.0960 - val_acc: 0.9543\n",
      "Epoch 42/50\n",
      " - 3s - loss: 0.2228 - acc: 0.5715 - val_loss: 0.0826 - val_acc: 0.9711\n",
      "Epoch 43/50\n",
      " - 3s - loss: 0.2295 - acc: 0.5540 - val_loss: 0.0676 - val_acc: 0.9970\n",
      "Epoch 44/50\n",
      " - 3s - loss: 0.2320 - acc: 0.5373 - val_loss: 0.0788 - val_acc: 0.9787\n",
      "Epoch 45/50\n",
      " - 3s - loss: 0.2309 - acc: 0.5472 - val_loss: 0.0690 - val_acc: 0.9939\n",
      "Epoch 46/50\n",
      " - 3s - loss: 0.2264 - acc: 0.5559 - val_loss: 0.0748 - val_acc: 0.9848\n",
      "Epoch 47/50\n",
      " - 3s - loss: 0.2269 - acc: 0.5666 - val_loss: 0.0737 - val_acc: 0.9893\n",
      "Epoch 48/50\n",
      " - 3s - loss: 0.2342 - acc: 0.5388 - val_loss: 0.0703 - val_acc: 0.9909\n",
      "Epoch 49/50\n",
      " - 3s - loss: 0.2219 - acc: 0.5772 - val_loss: 0.0881 - val_acc: 0.9559\n",
      "Epoch 50/50\n",
      " - 3s - loss: 0.2214 - acc: 0.5841 - val_loss: 0.0836 - val_acc: 0.9863\n"
     ]
    },
    {
     "data": {
      "text/plain": [
       "<keras.callbacks.History at 0x2034b344fd0>"
      ]
     },
     "execution_count": 165,
     "metadata": {},
     "output_type": "execute_result"
    }
   ],
   "source": [
    "model.fit(\n",
    "    np.expand_dims(X_train_dynamic, axis=2), \n",
    "    y_train_dynamic_ohe,\n",
    "    batch_size=32, \n",
    "    epochs=50, \n",
    "    verbose=2, \n",
    "    validation_split=0.2\n",
    ")"
   ]
  },
  {
   "cell_type": "code",
   "execution_count": 166,
   "metadata": {},
   "outputs": [
    {
     "name": "stdout",
     "output_type": "stream",
     "text": [
      "1387/1387 [==============================] - 0s 318us/step\n"
     ]
    }
   ],
   "source": [
    "score = model.evaluate(np.expand_dims(X_test_dynamic, axis=2), y_test_dynamic_ohe)"
   ]
  },
  {
   "cell_type": "code",
   "execution_count": 167,
   "metadata": {},
   "outputs": [
    {
     "data": {
      "text/plain": [
       "[0.08834828513190311, 0.9689978370583994]"
      ]
     },
     "execution_count": 167,
     "metadata": {},
     "output_type": "execute_result"
    }
   ],
   "source": [
    "score"
   ]
  },
  {
   "cell_type": "code",
   "execution_count": 169,
   "metadata": {},
   "outputs": [],
   "source": [
    "#saving dynamic model\n",
    "model.save(\"trained_models/dynamic_hra_model.h5\")"
   ]
  },
  {
   "cell_type": "markdown",
   "metadata": {},
   "source": [
    "# Training first stage classifier"
   ]
  },
  {
   "cell_type": "markdown",
   "metadata": {},
   "source": [
    "- it is a binary classifier which predict static(laying, sitting, standing) or dynamic(walking, up stairs, down stairs) activity\n",
    "- 0: dynamic, 1: static"
   ]
  },
  {
   "cell_type": "markdown",
   "metadata": {},
   "source": [
    "## Preparing data"
   ]
  },
  {
   "cell_type": "code",
   "execution_count": 131,
   "metadata": {},
   "outputs": [],
   "source": [
    "def return_y(arr):\n",
    "    y_to_return = []\n",
    "    for y in arr:\n",
    "        if y < 4:\n",
    "            y_to_return.append(0)\n",
    "        else:\n",
    "            y_to_return.append(1)\n",
    "    return y_to_return"
   ]
  },
  {
   "cell_type": "code",
   "execution_count": 132,
   "metadata": {},
   "outputs": [],
   "source": [
    "binary_y_train = return_y(y_train)\n",
    "binary_y_test = return_y(y_test)"
   ]
  },
  {
   "cell_type": "code",
   "execution_count": null,
   "metadata": {},
   "outputs": [],
   "source": [
    "max_depth = [1, 5, 10, 50, 100, 500];\n",
    "min_samples_split = [5, 10, 100, 500];"
   ]
  },
  {
   "cell_type": "code",
   "execution_count": 137,
   "metadata": {},
   "outputs": [
    {
     "name": "stderr",
     "output_type": "stream",
     "text": [
      "C:\\Users\\mishra_s\\AppData\\Local\\Continuum\\anaconda3\\lib\\site-packages\\sklearn\\model_selection\\_split.py:1978: FutureWarning: The default value of cv will change from 3 to 5 in version 0.22. Specify it explicitly to silence this warning.\n",
      "  warnings.warn(CV_WARNING, FutureWarning)\n"
     ]
    },
    {
     "data": {
      "text/plain": [
       "GridSearchCV(cv='warn', error_score='raise-deprecating',\n",
       "             estimator=DecisionTreeClassifier(class_weight='balanced',\n",
       "                                              criterion='gini', max_depth=None,\n",
       "                                              max_features=None,\n",
       "                                              max_leaf_nodes=None,\n",
       "                                              min_impurity_decrease=0.0,\n",
       "                                              min_impurity_split=None,\n",
       "                                              min_samples_leaf=1,\n",
       "                                              min_samples_split=2,\n",
       "                                              min_weight_fraction_leaf=0.0,\n",
       "                                              presort=False, random_state=None,\n",
       "                                              splitter='best'),\n",
       "             iid='warn', n_jobs=-1,\n",
       "             param_grid={'max_depth': [2, 3, 5, 7, 10, 50, 100],\n",
       "                         'min_samples_split': [5, 10, 100, 500]},\n",
       "             pre_dispatch='2*n_jobs', refit=True, return_train_score=False,\n",
       "             scoring=None, verbose=0)"
      ]
     },
     "execution_count": 137,
     "metadata": {},
     "output_type": "execute_result"
    }
   ],
   "source": [
    "from sklearn.tree import DecisionTreeClassifier\n",
    "parameters = {\n",
    "    'max_depth': [2, 3, 5, 7, 10, 50, 100],\n",
    "    'min_samples_split': [5, 10, 100, 500]     \n",
    "}\n",
    "dt = DecisionTreeClassifier(class_weight=\"balanced\")\n",
    "dt_grid = GridSearchCV(dt,param_grid=parameters, n_jobs=-1)\n",
    "dt_grid.fit(X_train, binary_y_train)\n",
    "# dt_grid_results = perform_model(dt_grid, X_train, y_train, X_test, y_test, class_labels=labels)\n",
    "# print_grid_search_attributes(dt_grid_results['model'])"
   ]
  },
  {
   "cell_type": "code",
   "execution_count": 138,
   "metadata": {},
   "outputs": [
    {
     "data": {
      "text/plain": [
       "{'max_depth': 7, 'min_samples_split': 10}"
      ]
     },
     "execution_count": 138,
     "metadata": {},
     "output_type": "execute_result"
    }
   ],
   "source": [
    "dt_grid.best_params_"
   ]
  },
  {
   "cell_type": "code",
   "execution_count": 139,
   "metadata": {},
   "outputs": [
    {
     "data": {
      "text/plain": [
       "DecisionTreeClassifier(class_weight='balanced', criterion='gini', max_depth=7,\n",
       "                       max_features=None, max_leaf_nodes=None,\n",
       "                       min_impurity_decrease=0.0, min_impurity_split=None,\n",
       "                       min_samples_leaf=1, min_samples_split=10,\n",
       "                       min_weight_fraction_leaf=0.0, presort=False,\n",
       "                       random_state=None, splitter='best')"
      ]
     },
     "execution_count": 139,
     "metadata": {},
     "output_type": "execute_result"
    }
   ],
   "source": [
    "dt = DecisionTreeClassifier(max_depth=7, min_samples_split=10, class_weight=\"balanced\")\n",
    "dt.fit(X_train, binary_y_train)"
   ]
  },
  {
   "cell_type": "code",
   "execution_count": 141,
   "metadata": {},
   "outputs": [],
   "source": [
    "y_pred = dt.predict(X_test)\n",
    "accuracy = accuracy_score(y_true=binary_y_test, y_pred=y_pred)"
   ]
  },
  {
   "cell_type": "markdown",
   "metadata": {},
   "source": [
    "## saving first stage classifier"
   ]
  },
  {
   "cell_type": "code",
   "execution_count": 151,
   "metadata": {},
   "outputs": [],
   "source": [
    "import pickle\n",
    "\n",
    "filename = 'trained_models/first_stage_model.sav'\n",
    "pickle.dump(dt, open(filename, 'wb'))"
   ]
  }
 ],
 "metadata": {
  "kernelspec": {
   "display_name": "Python 3",
   "language": "python",
   "name": "python3"
  },
  "language_info": {
   "codemirror_mode": {
    "name": "ipython",
    "version": 3
   },
   "file_extension": ".py",
   "mimetype": "text/x-python",
   "name": "python",
   "nbconvert_exporter": "python",
   "pygments_lexer": "ipython3",
   "version": "3.6.5"
  }
 },
 "nbformat": 4,
 "nbformat_minor": 2
}
